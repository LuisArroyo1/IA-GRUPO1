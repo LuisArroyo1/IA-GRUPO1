{
  "cells": [
    {
      "cell_type": "markdown",
      "metadata": {
        "id": "9_mUtWYEipAM"
      },
      "source": [
        "#Carga de datos y librerías"
      ]
    },
    {
      "cell_type": "code",
      "execution_count": 1,
      "metadata": {
        "id": "1Kp-Ow43oIL8"
      },
      "outputs": [],
      "source": [
        "pip install -q seaborn"
      ]
    },
    {
      "cell_type": "code",
      "execution_count": 2,
      "metadata": {
        "colab": {
          "base_uri": "https://localhost:8080/"
        },
        "id": "RGTOpJ3roKfc",
        "outputId": "345e76e7-46a4-440a-8ba1-abd487832275"
      },
      "outputs": [
        {
          "name": "stdout",
          "output_type": "stream",
          "text": [
            "2.9.2\n"
          ]
        }
      ],
      "source": [
        "import pathlib\n",
        "\n",
        "import matplotlib.pyplot as plt\n",
        "import pandas as pd\n",
        "import seaborn as sns\n",
        "import numpy as np\n",
        "\n",
        "import tensorflow as tf\n",
        "import math\n",
        "\n",
        "from tensorflow import keras\n",
        "from tensorflow.keras import layers\n",
        "\n",
        "\n",
        "print(tf.__version__)"
      ]
    },
    {
      "cell_type": "code",
      "execution_count": 3,
      "metadata": {
        "id": "os03LdShixGA"
      },
      "outputs": [],
      "source": [
        "df=pd.read_csv('database.csv')"
      ]
    },
    {
      "cell_type": "markdown",
      "metadata": {
        "id": "T7ga54VJkO7e"
      },
      "source": [
        "#Inspección de datos"
      ]
    },
    {
      "cell_type": "markdown",
      "metadata": {
        "id": "-pNjbzm6i4YV"
      },
      "source": [
        "##DataFrame Principal"
      ]
    },
    {
      "cell_type": "code",
      "execution_count": 4,
      "metadata": {
        "colab": {
          "base_uri": "https://localhost:8080/"
        },
        "id": "lIVcq_BlV17K",
        "outputId": "027a004a-43c7-454c-c882-52ba80a38ae6"
      },
      "outputs": [
        {
          "name": "stdout",
          "output_type": "stream",
          "text": [
            "['Unnamed: 0' 'Conglomerado' 'Vivienda' 'HOGAR' 'X400_ID' 'X401_SEXO'\n",
            " 'X402_ESTADO_FISI' 'X404_EVALUACION_AÑO' 'X406_EDAD_AÑOS'\n",
            " 'X408_PESO_NETO_ENTERO' 'X410_TALLA_ENTERO' 'X416_SEGUNDA_MEDIDA_.HORA'\n",
            " 'X416_SEGUNDA_MEDIDA_.MIN' 'X416_SEGUNDA_MEDIDA_.SISTOLICA'\n",
            " 'X418_RESULTADO_FINAL_SISTOLICA' 'X418_RESULTADO_FINAL_DIASTOLICA'\n",
            " 'X420_RESULTADO_HEMOGLOBINA_ENTERO' 'X423_GLUCOSA_ENTERO'\n",
            " 'X701_ACTIVIDAD_FISICA_VIGOROSA_DIAS'\n",
            " 'X702_ACTIVIDAD_FISICA_VIGOROSA_HORAS'\n",
            " 'X702_ACTIVIDAD_FISICA_VIGOROSA_MINUTOS'\n",
            " 'X703_ACTIVIDAD_FISICA_MODERADA_DIAS'\n",
            " 'X704_ACTIVIDAD_FISICA_MODERADA_HORAS'\n",
            " 'X704_ACTIVIDAD_FISICA_MODERADA_MINUTOS' 'X705_CAMINAR_DIAS'\n",
            " 'X706_CAMINAR_HORAS' 'X706_CAMINAR_MINUTOS' 'X707_SENTADO_HORAS'\n",
            " 'X707_SENTADO_MINUTOS' 'X708_FUMA_ACTUALMENTE' 'X709_FUMA_DIARIO'\n",
            " 'X710_EDAD_COMENZO_FUMAR_DIARIO' 'X711A_MEDIDA_TIEMPO_FUMA'\n",
            " 'X711B_TIEMPO_FUMA' 'X712_CANTIDAD_CIGARRILLOS'\n",
            " 'X716_ULTIMA_SEMANA_MIEMBRO_HOGAR_FUMO'\n",
            " 'X717_ULTIMA_SEMANA_ALGUIEN_TRABAJO_FUMO'\n",
            " 'X721_FRECUENCIA_CONSUMO_ALCOHOL' 'X722_CONSUMO_ALCOHOL_ULTIMO_MES'\n",
            " 'X722_VECES' 'X723_VASOS_CERVEZA' 'X723_BOTELLAS_CERVEZA'\n",
            " 'X723_VASOS_VINO' 'X723_BOTELLAS_VINO' 'X723_VASOS_CHICHA_JORA'\n",
            " 'X723_BOTELLAS_CHICHA_JORA' 'X724_ULTIMO_MES_BEBIO_SEISOMAS_VASOS'\n",
            " 'X726_DIAS_COME_FRUTA' 'X727_NUMERO_PORCIONES_ENTERO'\n",
            " 'X728_DIAS_COME_VERDURAS' 'X729_NUMERO_PORCIONES_VERDURAS_ENTERO'\n",
            " 'X731_DIAS_CONSUME_ALIMENTOS_PROCESADOS'\n",
            " 'X732_DIAS_CONSUME_ALIMENTOS_CHATARRA' 'X733_DIAS_AGREGA_SAL']\n"
          ]
        }
      ],
      "source": [
        "print(df.columns.values)"
      ]
    },
    {
      "cell_type": "code",
      "execution_count": 5,
      "metadata": {
        "colab": {
          "base_uri": "https://localhost:8080/"
        },
        "id": "HdbVGXqbkU10",
        "outputId": "6325bb29-972f-4581-dd5d-ba8ae3617d4e"
      },
      "outputs": [
        {
          "name": "stdout",
          "output_type": "stream",
          "text": [
            "<class 'pandas.core.frame.DataFrame'>\n",
            "RangeIndex: 1083 entries, 0 to 1082\n",
            "Data columns (total 54 columns):\n",
            " #   Column                                   Non-Null Count  Dtype  \n",
            "---  ------                                   --------------  -----  \n",
            " 0   Unnamed: 0                               1083 non-null   float64\n",
            " 1   Conglomerado                             1083 non-null   float64\n",
            " 2   Vivienda                                 1083 non-null   float64\n",
            " 3   HOGAR                                    1083 non-null   float64\n",
            " 4   X400_ID                                  1083 non-null   float64\n",
            " 5   X401_SEXO                                1083 non-null   float64\n",
            " 6   X402_ESTADO_FISI                         617 non-null    float64\n",
            " 7   X404_EVALUACION_AÑO                      1081 non-null   float64\n",
            " 8   X406_EDAD_AÑOS                           1081 non-null   float64\n",
            " 9   X408_PESO_NETO_ENTERO                    1078 non-null   float64\n",
            " 10  X410_TALLA_ENTERO                        1078 non-null   float64\n",
            " 11  X416_SEGUNDA_MEDIDA_.HORA                1031 non-null   float64\n",
            " 12  X416_SEGUNDA_MEDIDA_.MIN                 1031 non-null   float64\n",
            " 13  X416_SEGUNDA_MEDIDA_.SISTOLICA           1031 non-null   float64\n",
            " 14  X418_RESULTADO_FINAL_SISTOLICA           1031 non-null   float64\n",
            " 15  X418_RESULTADO_FINAL_DIASTOLICA          1031 non-null   float64\n",
            " 16  X420_RESULTADO_HEMOGLOBINA_ENTERO        1058 non-null   float64\n",
            " 17  X423_GLUCOSA_ENTERO                      931 non-null    float64\n",
            " 18  X701_ACTIVIDAD_FISICA_VIGOROSA_DIAS      1083 non-null   float64\n",
            " 19  X702_ACTIVIDAD_FISICA_VIGOROSA_HORAS     179 non-null    float64\n",
            " 20  X702_ACTIVIDAD_FISICA_VIGOROSA_MINUTOS   153 non-null    float64\n",
            " 21  X703_ACTIVIDAD_FISICA_MODERADA_DIAS      1083 non-null   float64\n",
            " 22  X704_ACTIVIDAD_FISICA_MODERADA_HORAS     426 non-null    float64\n",
            " 23  X704_ACTIVIDAD_FISICA_MODERADA_MINUTOS   335 non-null    float64\n",
            " 24  X705_CAMINAR_DIAS                        1083 non-null   float64\n",
            " 25  X706_CAMINAR_HORAS                       370 non-null    float64\n",
            " 26  X706_CAMINAR_MINUTOS                     591 non-null    float64\n",
            " 27  X707_SENTADO_HORAS                       706 non-null    float64\n",
            " 28  X707_SENTADO_MINUTOS                     378 non-null    float64\n",
            " 29  X708_FUMA_ACTUALMENTE                    1083 non-null   float64\n",
            " 30  X709_FUMA_DIARIO                         133 non-null    float64\n",
            " 31  X710_EDAD_COMENZO_FUMAR_DIARIO           28 non-null     float64\n",
            " 32  X711A_MEDIDA_TIEMPO_FUMA                 0 non-null      float64\n",
            " 33  X711B_TIEMPO_FUMA                        0 non-null      float64\n",
            " 34  X712_CANTIDAD_CIGARRILLOS                27 non-null     float64\n",
            " 35  X716_ULTIMA_SEMANA_MIEMBRO_HOGAR_FUMO    1083 non-null   float64\n",
            " 36  X717_ULTIMA_SEMANA_ALGUIEN_TRABAJO_FUMO  1083 non-null   float64\n",
            " 37  X721_FRECUENCIA_CONSUMO_ALCOHOL          778 non-null    float64\n",
            " 38  X722_CONSUMO_ALCOHOL_ULTIMO_MES          778 non-null    float64\n",
            " 39  X722_VECES                               497 non-null    float64\n",
            " 40  X723_VASOS_CERVEZA                       219 non-null    float64\n",
            " 41  X723_BOTELLAS_CERVEZA                    135 non-null    float64\n",
            " 42  X723_VASOS_VINO                          63 non-null     float64\n",
            " 43  X723_BOTELLAS_VINO                       3 non-null      float64\n",
            " 44  X723_VASOS_CHICHA_JORA                   10 non-null     float64\n",
            " 45  X723_BOTELLAS_CHICHA_JORA                0 non-null      float64\n",
            " 46  X724_ULTIMO_MES_BEBIO_SEISOMAS_VASOS     497 non-null    float64\n",
            " 47  X726_DIAS_COME_FRUTA                     1082 non-null   float64\n",
            " 48  X727_NUMERO_PORCIONES_ENTERO             1039 non-null   float64\n",
            " 49  X728_DIAS_COME_VERDURAS                  1083 non-null   float64\n",
            " 50  X729_NUMERO_PORCIONES_VERDURAS_ENTERO    940 non-null    float64\n",
            " 51  X731_DIAS_CONSUME_ALIMENTOS_PROCESADOS   1083 non-null   float64\n",
            " 52  X732_DIAS_CONSUME_ALIMENTOS_CHATARRA     1083 non-null   float64\n",
            " 53  X733_DIAS_AGREGA_SAL                     1083 non-null   float64\n",
            "dtypes: float64(54)\n",
            "memory usage: 457.0 KB\n"
          ]
        }
      ],
      "source": [
        "df.info()"
      ]
    },
    {
      "cell_type": "code",
      "execution_count": 6,
      "metadata": {
        "colab": {
          "base_uri": "https://localhost:8080/",
          "height": 317
        },
        "id": "-scNY_EvZagH",
        "outputId": "e1745a81-27ed-44f5-a4b7-cb77cb954311"
      },
      "outputs": [
        {
          "data": {
            "text/html": [
              "\n",
              "  <div id=\"df-52c1f083-95c8-4ada-a2de-9c6b9cddf234\">\n",
              "    <div class=\"colab-df-container\">\n",
              "      <div>\n",
              "<style scoped>\n",
              "    .dataframe tbody tr th:only-of-type {\n",
              "        vertical-align: middle;\n",
              "    }\n",
              "\n",
              "    .dataframe tbody tr th {\n",
              "        vertical-align: top;\n",
              "    }\n",
              "\n",
              "    .dataframe thead th {\n",
              "        text-align: right;\n",
              "    }\n",
              "</style>\n",
              "<table border=\"1\" class=\"dataframe\">\n",
              "  <thead>\n",
              "    <tr style=\"text-align: right;\">\n",
              "      <th></th>\n",
              "      <th>Unnamed: 0</th>\n",
              "      <th>Conglomerado</th>\n",
              "      <th>Vivienda</th>\n",
              "      <th>HOGAR</th>\n",
              "      <th>X400_ID</th>\n",
              "      <th>X401_SEXO</th>\n",
              "      <th>X402_ESTADO_FISI</th>\n",
              "      <th>X404_EVALUACION_AÑO</th>\n",
              "      <th>X406_EDAD_AÑOS</th>\n",
              "      <th>X408_PESO_NETO_ENTERO</th>\n",
              "      <th>...</th>\n",
              "      <th>X723_VASOS_CHICHA_JORA</th>\n",
              "      <th>X723_BOTELLAS_CHICHA_JORA</th>\n",
              "      <th>X724_ULTIMO_MES_BEBIO_SEISOMAS_VASOS</th>\n",
              "      <th>X726_DIAS_COME_FRUTA</th>\n",
              "      <th>X727_NUMERO_PORCIONES_ENTERO</th>\n",
              "      <th>X728_DIAS_COME_VERDURAS</th>\n",
              "      <th>X729_NUMERO_PORCIONES_VERDURAS_ENTERO</th>\n",
              "      <th>X731_DIAS_CONSUME_ALIMENTOS_PROCESADOS</th>\n",
              "      <th>X732_DIAS_CONSUME_ALIMENTOS_CHATARRA</th>\n",
              "      <th>X733_DIAS_AGREGA_SAL</th>\n",
              "    </tr>\n",
              "  </thead>\n",
              "  <tbody>\n",
              "    <tr>\n",
              "      <th>0</th>\n",
              "      <td>1.0</td>\n",
              "      <td>5007.0</td>\n",
              "      <td>36.0</td>\n",
              "      <td>11.0</td>\n",
              "      <td>1.0</td>\n",
              "      <td>1.0</td>\n",
              "      <td>NaN</td>\n",
              "      <td>2018.0</td>\n",
              "      <td>59.0</td>\n",
              "      <td>79.0</td>\n",
              "      <td>...</td>\n",
              "      <td>NaN</td>\n",
              "      <td>NaN</td>\n",
              "      <td>1.0</td>\n",
              "      <td>7.0</td>\n",
              "      <td>3.0</td>\n",
              "      <td>7.0</td>\n",
              "      <td>1.0</td>\n",
              "      <td>1.0</td>\n",
              "      <td>0.0</td>\n",
              "      <td>0.0</td>\n",
              "    </tr>\n",
              "    <tr>\n",
              "      <th>1</th>\n",
              "      <td>2.0</td>\n",
              "      <td>5007.0</td>\n",
              "      <td>41.0</td>\n",
              "      <td>11.0</td>\n",
              "      <td>3.0</td>\n",
              "      <td>1.0</td>\n",
              "      <td>NaN</td>\n",
              "      <td>2018.0</td>\n",
              "      <td>22.0</td>\n",
              "      <td>71.0</td>\n",
              "      <td>...</td>\n",
              "      <td>NaN</td>\n",
              "      <td>NaN</td>\n",
              "      <td>0.0</td>\n",
              "      <td>2.0</td>\n",
              "      <td>4.0</td>\n",
              "      <td>5.0</td>\n",
              "      <td>1.0</td>\n",
              "      <td>3.0</td>\n",
              "      <td>2.0</td>\n",
              "      <td>0.0</td>\n",
              "    </tr>\n",
              "    <tr>\n",
              "      <th>2</th>\n",
              "      <td>3.0</td>\n",
              "      <td>5013.0</td>\n",
              "      <td>114.0</td>\n",
              "      <td>11.0</td>\n",
              "      <td>2.0</td>\n",
              "      <td>1.0</td>\n",
              "      <td>NaN</td>\n",
              "      <td>2018.0</td>\n",
              "      <td>30.0</td>\n",
              "      <td>56.0</td>\n",
              "      <td>...</td>\n",
              "      <td>NaN</td>\n",
              "      <td>NaN</td>\n",
              "      <td>0.0</td>\n",
              "      <td>3.0</td>\n",
              "      <td>0.0</td>\n",
              "      <td>3.0</td>\n",
              "      <td>0.0</td>\n",
              "      <td>0.0</td>\n",
              "      <td>0.0</td>\n",
              "      <td>0.0</td>\n",
              "    </tr>\n",
              "    <tr>\n",
              "      <th>3</th>\n",
              "      <td>4.0</td>\n",
              "      <td>5041.0</td>\n",
              "      <td>3.0</td>\n",
              "      <td>11.0</td>\n",
              "      <td>2.0</td>\n",
              "      <td>2.0</td>\n",
              "      <td>1.0</td>\n",
              "      <td>2017.0</td>\n",
              "      <td>27.0</td>\n",
              "      <td>82.0</td>\n",
              "      <td>...</td>\n",
              "      <td>NaN</td>\n",
              "      <td>NaN</td>\n",
              "      <td>NaN</td>\n",
              "      <td>3.0</td>\n",
              "      <td>7.0</td>\n",
              "      <td>2.0</td>\n",
              "      <td>0.0</td>\n",
              "      <td>2.0</td>\n",
              "      <td>1.0</td>\n",
              "      <td>0.0</td>\n",
              "    </tr>\n",
              "    <tr>\n",
              "      <th>4</th>\n",
              "      <td>5.0</td>\n",
              "      <td>5061.0</td>\n",
              "      <td>80.0</td>\n",
              "      <td>11.0</td>\n",
              "      <td>1.0</td>\n",
              "      <td>1.0</td>\n",
              "      <td>NaN</td>\n",
              "      <td>2017.0</td>\n",
              "      <td>34.0</td>\n",
              "      <td>54.0</td>\n",
              "      <td>...</td>\n",
              "      <td>NaN</td>\n",
              "      <td>NaN</td>\n",
              "      <td>1.0</td>\n",
              "      <td>2.0</td>\n",
              "      <td>1.0</td>\n",
              "      <td>1.0</td>\n",
              "      <td>0.0</td>\n",
              "      <td>3.0</td>\n",
              "      <td>1.0</td>\n",
              "      <td>0.0</td>\n",
              "    </tr>\n",
              "  </tbody>\n",
              "</table>\n",
              "<p>5 rows × 54 columns</p>\n",
              "</div>\n",
              "      <button class=\"colab-df-convert\" onclick=\"convertToInteractive('df-52c1f083-95c8-4ada-a2de-9c6b9cddf234')\"\n",
              "              title=\"Convert this dataframe to an interactive table.\"\n",
              "              style=\"display:none;\">\n",
              "        \n",
              "  <svg xmlns=\"http://www.w3.org/2000/svg\" height=\"24px\"viewBox=\"0 0 24 24\"\n",
              "       width=\"24px\">\n",
              "    <path d=\"M0 0h24v24H0V0z\" fill=\"none\"/>\n",
              "    <path d=\"M18.56 5.44l.94 2.06.94-2.06 2.06-.94-2.06-.94-.94-2.06-.94 2.06-2.06.94zm-11 1L8.5 8.5l.94-2.06 2.06-.94-2.06-.94L8.5 2.5l-.94 2.06-2.06.94zm10 10l.94 2.06.94-2.06 2.06-.94-2.06-.94-.94-2.06-.94 2.06-2.06.94z\"/><path d=\"M17.41 7.96l-1.37-1.37c-.4-.4-.92-.59-1.43-.59-.52 0-1.04.2-1.43.59L10.3 9.45l-7.72 7.72c-.78.78-.78 2.05 0 2.83L4 21.41c.39.39.9.59 1.41.59.51 0 1.02-.2 1.41-.59l7.78-7.78 2.81-2.81c.8-.78.8-2.07 0-2.86zM5.41 20L4 18.59l7.72-7.72 1.47 1.35L5.41 20z\"/>\n",
              "  </svg>\n",
              "      </button>\n",
              "      \n",
              "  <style>\n",
              "    .colab-df-container {\n",
              "      display:flex;\n",
              "      flex-wrap:wrap;\n",
              "      gap: 12px;\n",
              "    }\n",
              "\n",
              "    .colab-df-convert {\n",
              "      background-color: #E8F0FE;\n",
              "      border: none;\n",
              "      border-radius: 50%;\n",
              "      cursor: pointer;\n",
              "      display: none;\n",
              "      fill: #1967D2;\n",
              "      height: 32px;\n",
              "      padding: 0 0 0 0;\n",
              "      width: 32px;\n",
              "    }\n",
              "\n",
              "    .colab-df-convert:hover {\n",
              "      background-color: #E2EBFA;\n",
              "      box-shadow: 0px 1px 2px rgba(60, 64, 67, 0.3), 0px 1px 3px 1px rgba(60, 64, 67, 0.15);\n",
              "      fill: #174EA6;\n",
              "    }\n",
              "\n",
              "    [theme=dark] .colab-df-convert {\n",
              "      background-color: #3B4455;\n",
              "      fill: #D2E3FC;\n",
              "    }\n",
              "\n",
              "    [theme=dark] .colab-df-convert:hover {\n",
              "      background-color: #434B5C;\n",
              "      box-shadow: 0px 1px 3px 1px rgba(0, 0, 0, 0.15);\n",
              "      filter: drop-shadow(0px 1px 2px rgba(0, 0, 0, 0.3));\n",
              "      fill: #FFFFFF;\n",
              "    }\n",
              "  </style>\n",
              "\n",
              "      <script>\n",
              "        const buttonEl =\n",
              "          document.querySelector('#df-52c1f083-95c8-4ada-a2de-9c6b9cddf234 button.colab-df-convert');\n",
              "        buttonEl.style.display =\n",
              "          google.colab.kernel.accessAllowed ? 'block' : 'none';\n",
              "\n",
              "        async function convertToInteractive(key) {\n",
              "          const element = document.querySelector('#df-52c1f083-95c8-4ada-a2de-9c6b9cddf234');\n",
              "          const dataTable =\n",
              "            await google.colab.kernel.invokeFunction('convertToInteractive',\n",
              "                                                     [key], {});\n",
              "          if (!dataTable) return;\n",
              "\n",
              "          const docLinkHtml = 'Like what you see? Visit the ' +\n",
              "            '<a target=\"_blank\" href=https://colab.research.google.com/notebooks/data_table.ipynb>data table notebook</a>'\n",
              "            + ' to learn more about interactive tables.';\n",
              "          element.innerHTML = '';\n",
              "          dataTable['output_type'] = 'display_data';\n",
              "          await google.colab.output.renderOutput(dataTable, element);\n",
              "          const docLink = document.createElement('div');\n",
              "          docLink.innerHTML = docLinkHtml;\n",
              "          element.appendChild(docLink);\n",
              "        }\n",
              "      </script>\n",
              "    </div>\n",
              "  </div>\n",
              "  "
            ],
            "text/plain": [
              "   Unnamed: 0  Conglomerado  Vivienda  HOGAR  X400_ID  X401_SEXO  \\\n",
              "0         1.0        5007.0      36.0   11.0      1.0        1.0   \n",
              "1         2.0        5007.0      41.0   11.0      3.0        1.0   \n",
              "2         3.0        5013.0     114.0   11.0      2.0        1.0   \n",
              "3         4.0        5041.0       3.0   11.0      2.0        2.0   \n",
              "4         5.0        5061.0      80.0   11.0      1.0        1.0   \n",
              "\n",
              "   X402_ESTADO_FISI  X404_EVALUACION_AÑO  X406_EDAD_AÑOS  \\\n",
              "0               NaN               2018.0            59.0   \n",
              "1               NaN               2018.0            22.0   \n",
              "2               NaN               2018.0            30.0   \n",
              "3               1.0               2017.0            27.0   \n",
              "4               NaN               2017.0            34.0   \n",
              "\n",
              "   X408_PESO_NETO_ENTERO  ...  X723_VASOS_CHICHA_JORA  \\\n",
              "0                   79.0  ...                     NaN   \n",
              "1                   71.0  ...                     NaN   \n",
              "2                   56.0  ...                     NaN   \n",
              "3                   82.0  ...                     NaN   \n",
              "4                   54.0  ...                     NaN   \n",
              "\n",
              "   X723_BOTELLAS_CHICHA_JORA  X724_ULTIMO_MES_BEBIO_SEISOMAS_VASOS  \\\n",
              "0                        NaN                                   1.0   \n",
              "1                        NaN                                   0.0   \n",
              "2                        NaN                                   0.0   \n",
              "3                        NaN                                   NaN   \n",
              "4                        NaN                                   1.0   \n",
              "\n",
              "   X726_DIAS_COME_FRUTA  X727_NUMERO_PORCIONES_ENTERO  \\\n",
              "0                   7.0                           3.0   \n",
              "1                   2.0                           4.0   \n",
              "2                   3.0                           0.0   \n",
              "3                   3.0                           7.0   \n",
              "4                   2.0                           1.0   \n",
              "\n",
              "   X728_DIAS_COME_VERDURAS  X729_NUMERO_PORCIONES_VERDURAS_ENTERO  \\\n",
              "0                      7.0                                    1.0   \n",
              "1                      5.0                                    1.0   \n",
              "2                      3.0                                    0.0   \n",
              "3                      2.0                                    0.0   \n",
              "4                      1.0                                    0.0   \n",
              "\n",
              "   X731_DIAS_CONSUME_ALIMENTOS_PROCESADOS  \\\n",
              "0                                     1.0   \n",
              "1                                     3.0   \n",
              "2                                     0.0   \n",
              "3                                     2.0   \n",
              "4                                     3.0   \n",
              "\n",
              "   X732_DIAS_CONSUME_ALIMENTOS_CHATARRA  X733_DIAS_AGREGA_SAL  \n",
              "0                                   0.0                   0.0  \n",
              "1                                   2.0                   0.0  \n",
              "2                                   0.0                   0.0  \n",
              "3                                   1.0                   0.0  \n",
              "4                                   1.0                   0.0  \n",
              "\n",
              "[5 rows x 54 columns]"
            ]
          },
          "execution_count": 6,
          "metadata": {},
          "output_type": "execute_result"
        }
      ],
      "source": [
        "df.head()"
      ]
    },
    {
      "cell_type": "code",
      "execution_count": 7,
      "metadata": {
        "colab": {
          "base_uri": "https://localhost:8080/",
          "height": 317
        },
        "id": "pWVluHRdWJ_C",
        "outputId": "0967921a-912d-4007-fd68-c8ddfa44d326"
      },
      "outputs": [
        {
          "data": {
            "text/html": [
              "\n",
              "  <div id=\"df-dfdc8804-fd8f-41b5-bafe-065cbe725130\">\n",
              "    <div class=\"colab-df-container\">\n",
              "      <div>\n",
              "<style scoped>\n",
              "    .dataframe tbody tr th:only-of-type {\n",
              "        vertical-align: middle;\n",
              "    }\n",
              "\n",
              "    .dataframe tbody tr th {\n",
              "        vertical-align: top;\n",
              "    }\n",
              "\n",
              "    .dataframe thead th {\n",
              "        text-align: right;\n",
              "    }\n",
              "</style>\n",
              "<table border=\"1\" class=\"dataframe\">\n",
              "  <thead>\n",
              "    <tr style=\"text-align: right;\">\n",
              "      <th></th>\n",
              "      <th>Unnamed: 0</th>\n",
              "      <th>Conglomerado</th>\n",
              "      <th>Vivienda</th>\n",
              "      <th>HOGAR</th>\n",
              "      <th>X400_ID</th>\n",
              "      <th>X401_SEXO</th>\n",
              "      <th>X402_ESTADO_FISI</th>\n",
              "      <th>X404_EVALUACION_AÑO</th>\n",
              "      <th>X406_EDAD_AÑOS</th>\n",
              "      <th>X408_PESO_NETO_ENTERO</th>\n",
              "      <th>...</th>\n",
              "      <th>X723_VASOS_CHICHA_JORA</th>\n",
              "      <th>X723_BOTELLAS_CHICHA_JORA</th>\n",
              "      <th>X724_ULTIMO_MES_BEBIO_SEISOMAS_VASOS</th>\n",
              "      <th>X726_DIAS_COME_FRUTA</th>\n",
              "      <th>X727_NUMERO_PORCIONES_ENTERO</th>\n",
              "      <th>X728_DIAS_COME_VERDURAS</th>\n",
              "      <th>X729_NUMERO_PORCIONES_VERDURAS_ENTERO</th>\n",
              "      <th>X731_DIAS_CONSUME_ALIMENTOS_PROCESADOS</th>\n",
              "      <th>X732_DIAS_CONSUME_ALIMENTOS_CHATARRA</th>\n",
              "      <th>X733_DIAS_AGREGA_SAL</th>\n",
              "    </tr>\n",
              "  </thead>\n",
              "  <tbody>\n",
              "    <tr>\n",
              "      <th>1078</th>\n",
              "      <td>1079.0</td>\n",
              "      <td>10327.0</td>\n",
              "      <td>88.0</td>\n",
              "      <td>11.0</td>\n",
              "      <td>1.0</td>\n",
              "      <td>1.0</td>\n",
              "      <td>NaN</td>\n",
              "      <td>2018.0</td>\n",
              "      <td>59.0</td>\n",
              "      <td>78.0</td>\n",
              "      <td>...</td>\n",
              "      <td>NaN</td>\n",
              "      <td>NaN</td>\n",
              "      <td>NaN</td>\n",
              "      <td>1.0</td>\n",
              "      <td>5.0</td>\n",
              "      <td>0.0</td>\n",
              "      <td>NaN</td>\n",
              "      <td>0.0</td>\n",
              "      <td>0.0</td>\n",
              "      <td>0.0</td>\n",
              "    </tr>\n",
              "    <tr>\n",
              "      <th>1079</th>\n",
              "      <td>1080.0</td>\n",
              "      <td>10327.0</td>\n",
              "      <td>89.0</td>\n",
              "      <td>11.0</td>\n",
              "      <td>1.0</td>\n",
              "      <td>1.0</td>\n",
              "      <td>NaN</td>\n",
              "      <td>2018.0</td>\n",
              "      <td>50.0</td>\n",
              "      <td>58.0</td>\n",
              "      <td>...</td>\n",
              "      <td>NaN</td>\n",
              "      <td>NaN</td>\n",
              "      <td>0.0</td>\n",
              "      <td>2.0</td>\n",
              "      <td>0.0</td>\n",
              "      <td>5.0</td>\n",
              "      <td>1.0</td>\n",
              "      <td>0.0</td>\n",
              "      <td>1.0</td>\n",
              "      <td>0.0</td>\n",
              "    </tr>\n",
              "    <tr>\n",
              "      <th>1080</th>\n",
              "      <td>1081.0</td>\n",
              "      <td>10342.0</td>\n",
              "      <td>30.0</td>\n",
              "      <td>11.0</td>\n",
              "      <td>1.0</td>\n",
              "      <td>1.0</td>\n",
              "      <td>NaN</td>\n",
              "      <td>2017.0</td>\n",
              "      <td>32.0</td>\n",
              "      <td>70.0</td>\n",
              "      <td>...</td>\n",
              "      <td>NaN</td>\n",
              "      <td>NaN</td>\n",
              "      <td>0.0</td>\n",
              "      <td>2.0</td>\n",
              "      <td>3.0</td>\n",
              "      <td>3.0</td>\n",
              "      <td>0.0</td>\n",
              "      <td>3.0</td>\n",
              "      <td>0.0</td>\n",
              "      <td>0.0</td>\n",
              "    </tr>\n",
              "    <tr>\n",
              "      <th>1081</th>\n",
              "      <td>1082.0</td>\n",
              "      <td>10342.0</td>\n",
              "      <td>30.0</td>\n",
              "      <td>11.0</td>\n",
              "      <td>2.0</td>\n",
              "      <td>2.0</td>\n",
              "      <td>1.0</td>\n",
              "      <td>2017.0</td>\n",
              "      <td>28.0</td>\n",
              "      <td>64.0</td>\n",
              "      <td>...</td>\n",
              "      <td>NaN</td>\n",
              "      <td>NaN</td>\n",
              "      <td>4.0</td>\n",
              "      <td>2.0</td>\n",
              "      <td>2.0</td>\n",
              "      <td>2.0</td>\n",
              "      <td>0.0</td>\n",
              "      <td>0.0</td>\n",
              "      <td>3.0</td>\n",
              "      <td>3.0</td>\n",
              "    </tr>\n",
              "    <tr>\n",
              "      <th>1082</th>\n",
              "      <td>1083.0</td>\n",
              "      <td>10359.0</td>\n",
              "      <td>130.0</td>\n",
              "      <td>11.0</td>\n",
              "      <td>1.0</td>\n",
              "      <td>1.0</td>\n",
              "      <td>NaN</td>\n",
              "      <td>2018.0</td>\n",
              "      <td>59.0</td>\n",
              "      <td>58.0</td>\n",
              "      <td>...</td>\n",
              "      <td>NaN</td>\n",
              "      <td>NaN</td>\n",
              "      <td>NaN</td>\n",
              "      <td>1.0</td>\n",
              "      <td>0.0</td>\n",
              "      <td>1.0</td>\n",
              "      <td>0.0</td>\n",
              "      <td>0.0</td>\n",
              "      <td>1.0</td>\n",
              "      <td>2.0</td>\n",
              "    </tr>\n",
              "  </tbody>\n",
              "</table>\n",
              "<p>5 rows × 54 columns</p>\n",
              "</div>\n",
              "      <button class=\"colab-df-convert\" onclick=\"convertToInteractive('df-dfdc8804-fd8f-41b5-bafe-065cbe725130')\"\n",
              "              title=\"Convert this dataframe to an interactive table.\"\n",
              "              style=\"display:none;\">\n",
              "        \n",
              "  <svg xmlns=\"http://www.w3.org/2000/svg\" height=\"24px\"viewBox=\"0 0 24 24\"\n",
              "       width=\"24px\">\n",
              "    <path d=\"M0 0h24v24H0V0z\" fill=\"none\"/>\n",
              "    <path d=\"M18.56 5.44l.94 2.06.94-2.06 2.06-.94-2.06-.94-.94-2.06-.94 2.06-2.06.94zm-11 1L8.5 8.5l.94-2.06 2.06-.94-2.06-.94L8.5 2.5l-.94 2.06-2.06.94zm10 10l.94 2.06.94-2.06 2.06-.94-2.06-.94-.94-2.06-.94 2.06-2.06.94z\"/><path d=\"M17.41 7.96l-1.37-1.37c-.4-.4-.92-.59-1.43-.59-.52 0-1.04.2-1.43.59L10.3 9.45l-7.72 7.72c-.78.78-.78 2.05 0 2.83L4 21.41c.39.39.9.59 1.41.59.51 0 1.02-.2 1.41-.59l7.78-7.78 2.81-2.81c.8-.78.8-2.07 0-2.86zM5.41 20L4 18.59l7.72-7.72 1.47 1.35L5.41 20z\"/>\n",
              "  </svg>\n",
              "      </button>\n",
              "      \n",
              "  <style>\n",
              "    .colab-df-container {\n",
              "      display:flex;\n",
              "      flex-wrap:wrap;\n",
              "      gap: 12px;\n",
              "    }\n",
              "\n",
              "    .colab-df-convert {\n",
              "      background-color: #E8F0FE;\n",
              "      border: none;\n",
              "      border-radius: 50%;\n",
              "      cursor: pointer;\n",
              "      display: none;\n",
              "      fill: #1967D2;\n",
              "      height: 32px;\n",
              "      padding: 0 0 0 0;\n",
              "      width: 32px;\n",
              "    }\n",
              "\n",
              "    .colab-df-convert:hover {\n",
              "      background-color: #E2EBFA;\n",
              "      box-shadow: 0px 1px 2px rgba(60, 64, 67, 0.3), 0px 1px 3px 1px rgba(60, 64, 67, 0.15);\n",
              "      fill: #174EA6;\n",
              "    }\n",
              "\n",
              "    [theme=dark] .colab-df-convert {\n",
              "      background-color: #3B4455;\n",
              "      fill: #D2E3FC;\n",
              "    }\n",
              "\n",
              "    [theme=dark] .colab-df-convert:hover {\n",
              "      background-color: #434B5C;\n",
              "      box-shadow: 0px 1px 3px 1px rgba(0, 0, 0, 0.15);\n",
              "      filter: drop-shadow(0px 1px 2px rgba(0, 0, 0, 0.3));\n",
              "      fill: #FFFFFF;\n",
              "    }\n",
              "  </style>\n",
              "\n",
              "      <script>\n",
              "        const buttonEl =\n",
              "          document.querySelector('#df-dfdc8804-fd8f-41b5-bafe-065cbe725130 button.colab-df-convert');\n",
              "        buttonEl.style.display =\n",
              "          google.colab.kernel.accessAllowed ? 'block' : 'none';\n",
              "\n",
              "        async function convertToInteractive(key) {\n",
              "          const element = document.querySelector('#df-dfdc8804-fd8f-41b5-bafe-065cbe725130');\n",
              "          const dataTable =\n",
              "            await google.colab.kernel.invokeFunction('convertToInteractive',\n",
              "                                                     [key], {});\n",
              "          if (!dataTable) return;\n",
              "\n",
              "          const docLinkHtml = 'Like what you see? Visit the ' +\n",
              "            '<a target=\"_blank\" href=https://colab.research.google.com/notebooks/data_table.ipynb>data table notebook</a>'\n",
              "            + ' to learn more about interactive tables.';\n",
              "          element.innerHTML = '';\n",
              "          dataTable['output_type'] = 'display_data';\n",
              "          await google.colab.output.renderOutput(dataTable, element);\n",
              "          const docLink = document.createElement('div');\n",
              "          docLink.innerHTML = docLinkHtml;\n",
              "          element.appendChild(docLink);\n",
              "        }\n",
              "      </script>\n",
              "    </div>\n",
              "  </div>\n",
              "  "
            ],
            "text/plain": [
              "      Unnamed: 0  Conglomerado  Vivienda  HOGAR  X400_ID  X401_SEXO  \\\n",
              "1078      1079.0       10327.0      88.0   11.0      1.0        1.0   \n",
              "1079      1080.0       10327.0      89.0   11.0      1.0        1.0   \n",
              "1080      1081.0       10342.0      30.0   11.0      1.0        1.0   \n",
              "1081      1082.0       10342.0      30.0   11.0      2.0        2.0   \n",
              "1082      1083.0       10359.0     130.0   11.0      1.0        1.0   \n",
              "\n",
              "      X402_ESTADO_FISI  X404_EVALUACION_AÑO  X406_EDAD_AÑOS  \\\n",
              "1078               NaN               2018.0            59.0   \n",
              "1079               NaN               2018.0            50.0   \n",
              "1080               NaN               2017.0            32.0   \n",
              "1081               1.0               2017.0            28.0   \n",
              "1082               NaN               2018.0            59.0   \n",
              "\n",
              "      X408_PESO_NETO_ENTERO  ...  X723_VASOS_CHICHA_JORA  \\\n",
              "1078                   78.0  ...                     NaN   \n",
              "1079                   58.0  ...                     NaN   \n",
              "1080                   70.0  ...                     NaN   \n",
              "1081                   64.0  ...                     NaN   \n",
              "1082                   58.0  ...                     NaN   \n",
              "\n",
              "      X723_BOTELLAS_CHICHA_JORA  X724_ULTIMO_MES_BEBIO_SEISOMAS_VASOS  \\\n",
              "1078                        NaN                                   NaN   \n",
              "1079                        NaN                                   0.0   \n",
              "1080                        NaN                                   0.0   \n",
              "1081                        NaN                                   4.0   \n",
              "1082                        NaN                                   NaN   \n",
              "\n",
              "      X726_DIAS_COME_FRUTA  X727_NUMERO_PORCIONES_ENTERO  \\\n",
              "1078                   1.0                           5.0   \n",
              "1079                   2.0                           0.0   \n",
              "1080                   2.0                           3.0   \n",
              "1081                   2.0                           2.0   \n",
              "1082                   1.0                           0.0   \n",
              "\n",
              "      X728_DIAS_COME_VERDURAS  X729_NUMERO_PORCIONES_VERDURAS_ENTERO  \\\n",
              "1078                      0.0                                    NaN   \n",
              "1079                      5.0                                    1.0   \n",
              "1080                      3.0                                    0.0   \n",
              "1081                      2.0                                    0.0   \n",
              "1082                      1.0                                    0.0   \n",
              "\n",
              "      X731_DIAS_CONSUME_ALIMENTOS_PROCESADOS  \\\n",
              "1078                                     0.0   \n",
              "1079                                     0.0   \n",
              "1080                                     3.0   \n",
              "1081                                     0.0   \n",
              "1082                                     0.0   \n",
              "\n",
              "      X732_DIAS_CONSUME_ALIMENTOS_CHATARRA  X733_DIAS_AGREGA_SAL  \n",
              "1078                                   0.0                   0.0  \n",
              "1079                                   1.0                   0.0  \n",
              "1080                                   0.0                   0.0  \n",
              "1081                                   3.0                   3.0  \n",
              "1082                                   1.0                   2.0  \n",
              "\n",
              "[5 rows x 54 columns]"
            ]
          },
          "execution_count": 7,
          "metadata": {},
          "output_type": "execute_result"
        }
      ],
      "source": [
        "df.tail()"
      ]
    },
    {
      "cell_type": "code",
      "execution_count": 8,
      "metadata": {
        "colab": {
          "base_uri": "https://localhost:8080/"
        },
        "id": "E37dbUK3IJ7C",
        "outputId": "28ff11f9-e000-435b-cbdd-fa2433668347"
      },
      "outputs": [
        {
          "data": {
            "text/plain": [
              "Unnamed: 0                                    0\n",
              "Conglomerado                                  0\n",
              "Vivienda                                      0\n",
              "HOGAR                                         0\n",
              "X400_ID                                       0\n",
              "X401_SEXO                                     0\n",
              "X402_ESTADO_FISI                            466\n",
              "X404_EVALUACION_AÑO                           2\n",
              "X406_EDAD_AÑOS                                2\n",
              "X408_PESO_NETO_ENTERO                         5\n",
              "X410_TALLA_ENTERO                             5\n",
              "X416_SEGUNDA_MEDIDA_.HORA                    52\n",
              "X416_SEGUNDA_MEDIDA_.MIN                     52\n",
              "X416_SEGUNDA_MEDIDA_.SISTOLICA               52\n",
              "X418_RESULTADO_FINAL_SISTOLICA               52\n",
              "X418_RESULTADO_FINAL_DIASTOLICA              52\n",
              "X420_RESULTADO_HEMOGLOBINA_ENTERO            25\n",
              "X423_GLUCOSA_ENTERO                         152\n",
              "X701_ACTIVIDAD_FISICA_VIGOROSA_DIAS           0\n",
              "X702_ACTIVIDAD_FISICA_VIGOROSA_HORAS        904\n",
              "X702_ACTIVIDAD_FISICA_VIGOROSA_MINUTOS      930\n",
              "X703_ACTIVIDAD_FISICA_MODERADA_DIAS           0\n",
              "X704_ACTIVIDAD_FISICA_MODERADA_HORAS        657\n",
              "X704_ACTIVIDAD_FISICA_MODERADA_MINUTOS      748\n",
              "X705_CAMINAR_DIAS                             0\n",
              "X706_CAMINAR_HORAS                          713\n",
              "X706_CAMINAR_MINUTOS                        492\n",
              "X707_SENTADO_HORAS                          377\n",
              "X707_SENTADO_MINUTOS                        705\n",
              "X708_FUMA_ACTUALMENTE                         0\n",
              "X709_FUMA_DIARIO                            950\n",
              "X710_EDAD_COMENZO_FUMAR_DIARIO             1055\n",
              "X711A_MEDIDA_TIEMPO_FUMA                   1083\n",
              "X711B_TIEMPO_FUMA                          1083\n",
              "X712_CANTIDAD_CIGARRILLOS                  1056\n",
              "X716_ULTIMA_SEMANA_MIEMBRO_HOGAR_FUMO         0\n",
              "X717_ULTIMA_SEMANA_ALGUIEN_TRABAJO_FUMO       0\n",
              "X721_FRECUENCIA_CONSUMO_ALCOHOL             305\n",
              "X722_CONSUMO_ALCOHOL_ULTIMO_MES             305\n",
              "X722_VECES                                  586\n",
              "X723_VASOS_CERVEZA                          864\n",
              "X723_BOTELLAS_CERVEZA                       948\n",
              "X723_VASOS_VINO                            1020\n",
              "X723_BOTELLAS_VINO                         1080\n",
              "X723_VASOS_CHICHA_JORA                     1073\n",
              "X723_BOTELLAS_CHICHA_JORA                  1083\n",
              "X724_ULTIMO_MES_BEBIO_SEISOMAS_VASOS        586\n",
              "X726_DIAS_COME_FRUTA                          1\n",
              "X727_NUMERO_PORCIONES_ENTERO                 44\n",
              "X728_DIAS_COME_VERDURAS                       0\n",
              "X729_NUMERO_PORCIONES_VERDURAS_ENTERO       143\n",
              "X731_DIAS_CONSUME_ALIMENTOS_PROCESADOS        0\n",
              "X732_DIAS_CONSUME_ALIMENTOS_CHATARRA          0\n",
              "X733_DIAS_AGREGA_SAL                          0\n",
              "dtype: int64"
            ]
          },
          "execution_count": 8,
          "metadata": {},
          "output_type": "execute_result"
        }
      ],
      "source": [
        "df.isna().sum()"
      ]
    },
    {
      "cell_type": "markdown",
      "metadata": {
        "id": "mQvr8T_1Z0HT"
      },
      "source": [
        "#Limpieza y pre-procesamiento de datos"
      ]
    },
    {
      "cell_type": "markdown",
      "metadata": {
        "id": "eDjWmvDZdFWI"
      },
      "source": [
        "##Eliminación de las columnas con información irrelevante para la propuesta."
      ]
    },
    {
      "cell_type": "code",
      "execution_count": 9,
      "metadata": {
        "id": "NleuivqZuRn4"
      },
      "outputs": [],
      "source": [
        "df.drop(['Unnamed: 0','Vivienda','HOGAR','X400_ID','Conglomerado','X710_EDAD_COMENZO_FUMAR_DIARIO','X711A_MEDIDA_TIEMPO_FUMA','X716_ULTIMA_SEMANA_MIEMBRO_HOGAR_FUMO','X717_ULTIMA_SEMANA_ALGUIEN_TRABAJO_FUMO',\n",
        "         'X722_CONSUMO_ALCOHOL_ULTIMO_MES','X722_VECES','X723_VASOS_CERVEZA','X723_BOTELLAS_CERVEZA','X723_VASOS_VINO','X723_BOTELLAS_VINO','X723_VASOS_CHICHA_JORA','X723_BOTELLAS_CHICHA_JORA','X724_ULTIMO_MES_BEBIO_SEISOMAS_VASOS',\n",
        "         'X416_SEGUNDA_MEDIDA_.HORA','X404_EVALUACION_AÑO','X416_SEGUNDA_MEDIDA_.MIN','X416_SEGUNDA_MEDIDA_.SISTOLICA','X702_ACTIVIDAD_FISICA_VIGOROSA_HORAS','X702_ACTIVIDAD_FISICA_VIGOROSA_MINUTOS',\n",
        "         'X704_ACTIVIDAD_FISICA_MODERADA_HORAS','X704_ACTIVIDAD_FISICA_MODERADA_MINUTOS','X706_CAMINAR_HORAS','X706_CAMINAR_MINUTOS','X707_SENTADO_HORAS','X707_SENTADO_MINUTOS','X418_RESULTADO_FINAL_SISTOLICA',\n",
        "         'X418_RESULTADO_FINAL_DIASTOLICA','X420_RESULTADO_HEMOGLOBINA_ENTERO','X423_GLUCOSA_ENTERO','X402_ESTADO_FISI','X708_FUMA_ACTUALMENTE','X709_FUMA_DIARIO','X711B_TIEMPO_FUMA','X712_CANTIDAD_CIGARRILLOS'],inplace=True,axis=1)\n"
      ]
    },
    {
      "cell_type": "code",
      "execution_count": 10,
      "metadata": {
        "colab": {
          "base_uri": "https://localhost:8080/"
        },
        "id": "afkspL3BlgQ9",
        "outputId": "c22f393e-c89f-4b21-9c73-868c1f7f3e68"
      },
      "outputs": [
        {
          "name": "stdout",
          "output_type": "stream",
          "text": [
            "<class 'pandas.core.frame.DataFrame'>\n",
            "RangeIndex: 1083 entries, 0 to 1082\n",
            "Data columns (total 15 columns):\n",
            " #   Column                                  Non-Null Count  Dtype  \n",
            "---  ------                                  --------------  -----  \n",
            " 0   X401_SEXO                               1083 non-null   float64\n",
            " 1   X406_EDAD_AÑOS                          1081 non-null   float64\n",
            " 2   X408_PESO_NETO_ENTERO                   1078 non-null   float64\n",
            " 3   X410_TALLA_ENTERO                       1078 non-null   float64\n",
            " 4   X701_ACTIVIDAD_FISICA_VIGOROSA_DIAS     1083 non-null   float64\n",
            " 5   X703_ACTIVIDAD_FISICA_MODERADA_DIAS     1083 non-null   float64\n",
            " 6   X705_CAMINAR_DIAS                       1083 non-null   float64\n",
            " 7   X721_FRECUENCIA_CONSUMO_ALCOHOL         778 non-null    float64\n",
            " 8   X726_DIAS_COME_FRUTA                    1082 non-null   float64\n",
            " 9   X727_NUMERO_PORCIONES_ENTERO            1039 non-null   float64\n",
            " 10  X728_DIAS_COME_VERDURAS                 1083 non-null   float64\n",
            " 11  X729_NUMERO_PORCIONES_VERDURAS_ENTERO   940 non-null    float64\n",
            " 12  X731_DIAS_CONSUME_ALIMENTOS_PROCESADOS  1083 non-null   float64\n",
            " 13  X732_DIAS_CONSUME_ALIMENTOS_CHATARRA    1083 non-null   float64\n",
            " 14  X733_DIAS_AGREGA_SAL                    1083 non-null   float64\n",
            "dtypes: float64(15)\n",
            "memory usage: 127.0 KB\n"
          ]
        }
      ],
      "source": [
        "df.info()"
      ]
    },
    {
      "cell_type": "markdown",
      "metadata": {
        "id": "KqxiBDdIq0l_"
      },
      "source": [
        "##Tratado de datos faltantes"
      ]
    },
    {
      "cell_type": "markdown",
      "metadata": {
        "id": "Ko8PeKN9GWTE"
      },
      "source": [
        "Se buscan las columnas con datos faltantes y la cantidad de estos"
      ]
    },
    {
      "cell_type": "code",
      "execution_count": 11,
      "metadata": {
        "colab": {
          "base_uri": "https://localhost:8080/"
        },
        "id": "3soiSgCeqvy2",
        "outputId": "c497f0f7-8588-48f0-ed41-f29465af38eb"
      },
      "outputs": [
        {
          "data": {
            "text/plain": [
              "X406_EDAD_AÑOS                             2\n",
              "X408_PESO_NETO_ENTERO                      5\n",
              "X410_TALLA_ENTERO                          5\n",
              "X721_FRECUENCIA_CONSUMO_ALCOHOL          305\n",
              "X726_DIAS_COME_FRUTA                       1\n",
              "X727_NUMERO_PORCIONES_ENTERO              44\n",
              "X729_NUMERO_PORCIONES_VERDURAS_ENTERO    143\n",
              "dtype: int64"
            ]
          },
          "execution_count": 11,
          "metadata": {},
          "output_type": "execute_result"
        }
      ],
      "source": [
        "df.isna().sum()[df.isna().sum() > 0]"
      ]
    },
    {
      "cell_type": "markdown",
      "metadata": {
        "id": "Twj9CYT1H6Vp"
      },
      "source": [
        "Se llenan estos datos con la media convertida a entero de cada una de las columnas indicadas."
      ]
    },
    {
      "cell_type": "code",
      "execution_count": 12,
      "metadata": {
        "id": "SYBYG5wbwwWn"
      },
      "outputs": [],
      "source": [
        "df['X726_DIAS_COME_FRUTA'].fillna(df['X726_DIAS_COME_FRUTA'].mean(axis=0,skipna=True).astype(int),inplace=True)"
      ]
    },
    {
      "cell_type": "code",
      "execution_count": 13,
      "metadata": {
        "id": "oJ6IDhtUtple"
      },
      "outputs": [],
      "source": [
        "df['X721_FRECUENCIA_CONSUMO_ALCOHOL'].fillna(df['X721_FRECUENCIA_CONSUMO_ALCOHOL'].mean(axis=0,skipna=True).astype(int),inplace=True)"
      ]
    },
    {
      "cell_type": "code",
      "execution_count": 14,
      "metadata": {
        "id": "CGQs4e1Jw4nT"
      },
      "outputs": [],
      "source": [
        "df['X727_NUMERO_PORCIONES_ENTERO'].fillna(df['X727_NUMERO_PORCIONES_ENTERO'].mean(axis=0,skipna=True).astype(int),inplace=True)"
      ]
    },
    {
      "cell_type": "code",
      "execution_count": 15,
      "metadata": {
        "id": "moeIE-vJwFgM"
      },
      "outputs": [],
      "source": [
        "df['X729_NUMERO_PORCIONES_VERDURAS_ENTERO'].fillna(df['X729_NUMERO_PORCIONES_VERDURAS_ENTERO'].mean(axis=0,skipna=True).astype(int),inplace=True)"
      ]
    },
    {
      "cell_type": "code",
      "execution_count": 16,
      "metadata": {
        "id": "YRVcdqgxHpNX"
      },
      "outputs": [],
      "source": [
        "df['X406_EDAD_AÑOS'].fillna(df['X406_EDAD_AÑOS'].mean(axis=0,skipna=True).astype(int),inplace=True)"
      ]
    },
    {
      "cell_type": "code",
      "execution_count": 17,
      "metadata": {
        "id": "COBkrCOGHuff"
      },
      "outputs": [],
      "source": [
        "df['X408_PESO_NETO_ENTERO'].fillna(df['X408_PESO_NETO_ENTERO'].mean(axis=0,skipna=True).astype(int),inplace=True)"
      ]
    },
    {
      "cell_type": "code",
      "execution_count": 18,
      "metadata": {
        "id": "-luPi13MHx5T"
      },
      "outputs": [],
      "source": [
        "df['X410_TALLA_ENTERO'].fillna(df['X410_TALLA_ENTERO'].mean(axis=0,skipna=True).astype(int),inplace=True)"
      ]
    },
    {
      "cell_type": "markdown",
      "metadata": {
        "id": "6Jo4etXxIA3g"
      },
      "source": [
        "Comprobación de que ya no hay datos faltantes\n"
      ]
    },
    {
      "cell_type": "code",
      "execution_count": 19,
      "metadata": {
        "colab": {
          "base_uri": "https://localhost:8080/"
        },
        "id": "xWibVslHwaSK",
        "outputId": "08e8aa2f-bea5-4c23-aee3-6a0d13a62250"
      },
      "outputs": [
        {
          "data": {
            "text/plain": [
              "Series([], dtype: int64)"
            ]
          },
          "execution_count": 19,
          "metadata": {},
          "output_type": "execute_result"
        }
      ],
      "source": [
        "df.isna().sum()[df.isna().sum() > 0]"
      ]
    },
    {
      "cell_type": "markdown",
      "metadata": {
        "id": "_MFH5nhGlZga"
      },
      "source": [
        "##Modificación del tipo de dato"
      ]
    },
    {
      "cell_type": "markdown",
      "metadata": {
        "id": "EJL2oikiIT79"
      },
      "source": [
        "Se opta por cambiar los datos de float a int"
      ]
    },
    {
      "cell_type": "code",
      "execution_count": 20,
      "metadata": {
        "colab": {
          "base_uri": "https://localhost:8080/"
        },
        "id": "gPauVYBvIYVj",
        "outputId": "a41549ff-c839-44d3-c0ae-33035e459c9c"
      },
      "outputs": [
        {
          "name": "stdout",
          "output_type": "stream",
          "text": [
            "<class 'pandas.core.frame.DataFrame'>\n",
            "RangeIndex: 1083 entries, 0 to 1082\n",
            "Data columns (total 15 columns):\n",
            " #   Column                                  Non-Null Count  Dtype  \n",
            "---  ------                                  --------------  -----  \n",
            " 0   X401_SEXO                               1083 non-null   float64\n",
            " 1   X406_EDAD_AÑOS                          1083 non-null   float64\n",
            " 2   X408_PESO_NETO_ENTERO                   1083 non-null   float64\n",
            " 3   X410_TALLA_ENTERO                       1083 non-null   float64\n",
            " 4   X701_ACTIVIDAD_FISICA_VIGOROSA_DIAS     1083 non-null   float64\n",
            " 5   X703_ACTIVIDAD_FISICA_MODERADA_DIAS     1083 non-null   float64\n",
            " 6   X705_CAMINAR_DIAS                       1083 non-null   float64\n",
            " 7   X721_FRECUENCIA_CONSUMO_ALCOHOL         1083 non-null   float64\n",
            " 8   X726_DIAS_COME_FRUTA                    1083 non-null   float64\n",
            " 9   X727_NUMERO_PORCIONES_ENTERO            1083 non-null   float64\n",
            " 10  X728_DIAS_COME_VERDURAS                 1083 non-null   float64\n",
            " 11  X729_NUMERO_PORCIONES_VERDURAS_ENTERO   1083 non-null   float64\n",
            " 12  X731_DIAS_CONSUME_ALIMENTOS_PROCESADOS  1083 non-null   float64\n",
            " 13  X732_DIAS_CONSUME_ALIMENTOS_CHATARRA    1083 non-null   float64\n",
            " 14  X733_DIAS_AGREGA_SAL                    1083 non-null   float64\n",
            "dtypes: float64(15)\n",
            "memory usage: 127.0 KB\n"
          ]
        }
      ],
      "source": [
        "df.info()"
      ]
    },
    {
      "cell_type": "code",
      "execution_count": 21,
      "metadata": {
        "id": "v3CkSqFGlezu"
      },
      "outputs": [],
      "source": [
        "df=df.astype(int)"
      ]
    },
    {
      "cell_type": "code",
      "execution_count": 22,
      "metadata": {
        "colab": {
          "base_uri": "https://localhost:8080/"
        },
        "id": "qk0vlqD8w-it",
        "outputId": "db395d13-e220-45a6-e557-2d48ccaf3f3b"
      },
      "outputs": [
        {
          "name": "stdout",
          "output_type": "stream",
          "text": [
            "<class 'pandas.core.frame.DataFrame'>\n",
            "RangeIndex: 1083 entries, 0 to 1082\n",
            "Data columns (total 15 columns):\n",
            " #   Column                                  Non-Null Count  Dtype\n",
            "---  ------                                  --------------  -----\n",
            " 0   X401_SEXO                               1083 non-null   int64\n",
            " 1   X406_EDAD_AÑOS                          1083 non-null   int64\n",
            " 2   X408_PESO_NETO_ENTERO                   1083 non-null   int64\n",
            " 3   X410_TALLA_ENTERO                       1083 non-null   int64\n",
            " 4   X701_ACTIVIDAD_FISICA_VIGOROSA_DIAS     1083 non-null   int64\n",
            " 5   X703_ACTIVIDAD_FISICA_MODERADA_DIAS     1083 non-null   int64\n",
            " 6   X705_CAMINAR_DIAS                       1083 non-null   int64\n",
            " 7   X721_FRECUENCIA_CONSUMO_ALCOHOL         1083 non-null   int64\n",
            " 8   X726_DIAS_COME_FRUTA                    1083 non-null   int64\n",
            " 9   X727_NUMERO_PORCIONES_ENTERO            1083 non-null   int64\n",
            " 10  X728_DIAS_COME_VERDURAS                 1083 non-null   int64\n",
            " 11  X729_NUMERO_PORCIONES_VERDURAS_ENTERO   1083 non-null   int64\n",
            " 12  X731_DIAS_CONSUME_ALIMENTOS_PROCESADOS  1083 non-null   int64\n",
            " 13  X732_DIAS_CONSUME_ALIMENTOS_CHATARRA    1083 non-null   int64\n",
            " 14  X733_DIAS_AGREGA_SAL                    1083 non-null   int64\n",
            "dtypes: int64(15)\n",
            "memory usage: 127.0 KB\n"
          ]
        }
      ],
      "source": [
        "df.info()"
      ]
    },
    {
      "cell_type": "markdown",
      "metadata": {
        "id": "Gzjg00Tk6yEb"
      },
      "source": [
        "##Reemplazo de los datos de _X401_SEXO_ "
      ]
    },
    {
      "cell_type": "markdown",
      "metadata": {
        "id": "K0OMW6BH66jy"
      },
      "source": [
        "Para un mejor entendimiento de la data se han cambiado los datos por 1 y 0."
      ]
    },
    {
      "cell_type": "code",
      "execution_count": 23,
      "metadata": {
        "id": "f3uKxA4HTC_g"
      },
      "outputs": [],
      "source": [
        "df[\"X401_SEXO\"].replace({1.0: 0, 2: 1}, inplace=True)"
      ]
    },
    {
      "cell_type": "markdown",
      "metadata": {
        "id": "_7IaU6lEx2As"
      },
      "source": [
        "##Datos atípicos (outliers)"
      ]
    },
    {
      "cell_type": "code",
      "execution_count": 24,
      "metadata": {
        "colab": {
          "base_uri": "https://localhost:8080/",
          "height": 282
        },
        "id": "fMa4rF60x5U3",
        "outputId": "e4a94e9a-2aab-41a1-83e7-4adddd326a09"
      },
      "outputs": [
        {
          "data": {
            "text/plain": [
              "<matplotlib.axes._subplots.AxesSubplot at 0x7f343d211590>"
            ]
          },
          "execution_count": 24,
          "metadata": {},
          "output_type": "execute_result"
        },
        {
          "data": {
            "image/png": "[encoded data removed]",
            "text/plain": [
              "<Figure size 432x288 with 1 Axes>"
            ]
          },
          "metadata": {
            "needs_background": "light"
          },
          "output_type": "display_data"
        }
      ],
      "source": [
        "sns.boxplot(data=df, palette='coolwarm', orient='h')"
      ]
    },
    {
      "cell_type": "markdown",
      "metadata": {
        "id": "bEcJ3AouyLtO"
      },
      "source": [
        "Se puede observar que existen datos atípicos dentro de _X728_DIAS_COME_VERDURAS_, _X731_DIAS_CONSUME_ALIMENTOS_PROCESADOS_ y _X733_DIAS_AGREGA_SAL_.Estos datos podrían afectar el outcome de nuestro modelo."
      ]
    },
    {
      "cell_type": "code",
      "execution_count": 25,
      "metadata": {
        "colab": {
          "base_uri": "https://localhost:8080/",
          "height": 282
        },
        "id": "-Ged2QjSy359",
        "outputId": "9828ccf5-a46d-43b1-a07d-b56233bb2a2f"
      },
      "outputs": [
        {
          "data": {
            "text/plain": [
              "<matplotlib.axes._subplots.AxesSubplot at 0x7f343cfd0710>"
            ]
          },
          "execution_count": 25,
          "metadata": {},
          "output_type": "execute_result"
        },
        {
          "data": {
            "image/png": "[encoded data removed]",
            "text/plain": [
              "<Figure size 432x288 with 1 Axes>"
            ]
          },
          "metadata": {
            "needs_background": "light"
          },
          "output_type": "display_data"
        }
      ],
      "source": [
        "sns.boxplot(data=df[['X728_DIAS_COME_VERDURAS','X731_DIAS_CONSUME_ALIMENTOS_PROCESADOS','X733_DIAS_AGREGA_SAL']], palette='coolwarm', orient='h')"
      ]
    },
    {
      "cell_type": "markdown",
      "metadata": {
        "id": "plkuKN4FzySE"
      },
      "source": [
        "Se saca la media de cada columna y se reemplaza en el valor atípico (que en los 3 casos sería el máximo) para que no influya negativamente en la salida de nuestro modelo."
      ]
    },
    {
      "cell_type": "code",
      "execution_count": 26,
      "metadata": {
        "id": "kAmPq8ds0T3h"
      },
      "outputs": [],
      "source": [
        "df['X728_DIAS_COME_VERDURAS'] = df['X728_DIAS_COME_VERDURAS'].replace(df['X728_DIAS_COME_VERDURAS'].max(),df['X728_DIAS_COME_VERDURAS'].mean(axis=0,skipna=True).astype(int))\n",
        "df['X731_DIAS_CONSUME_ALIMENTOS_PROCESADOS'] = df['X731_DIAS_CONSUME_ALIMENTOS_PROCESADOS'].replace(df['X731_DIAS_CONSUME_ALIMENTOS_PROCESADOS'].max(),df['X731_DIAS_CONSUME_ALIMENTOS_PROCESADOS'].mean(axis=0,skipna=True).astype(int))\n",
        "df['X733_DIAS_AGREGA_SAL'] = df['X733_DIAS_AGREGA_SAL'].replace(df['X733_DIAS_AGREGA_SAL'].max(),df['X733_DIAS_AGREGA_SAL'].mean(axis=0,skipna=True).astype(int))\n"
      ]
    },
    {
      "cell_type": "markdown",
      "metadata": {
        "id": "zMW487sS1EQi"
      },
      "source": [
        "Revisión de los resultados"
      ]
    },
    {
      "cell_type": "code",
      "execution_count": 27,
      "metadata": {
        "colab": {
          "base_uri": "https://localhost:8080/",
          "height": 282
        },
        "id": "W95TIfn00vwH",
        "outputId": "3a5f2429-ae9f-47a8-c8f6-e966eee43a96"
      },
      "outputs": [
        {
          "data": {
            "text/plain": [
              "<matplotlib.axes._subplots.AxesSubplot at 0x7f343d214350>"
            ]
          },
          "execution_count": 27,
          "metadata": {},
          "output_type": "execute_result"
        },
        {
          "data": {
            "image/png": "[encoded data removed]",
            "text/plain": [
              "<Figure size 432x288 with 1 Axes>"
            ]
          },
          "metadata": {
            "needs_background": "light"
          },
          "output_type": "display_data"
        }
      ],
      "source": [
        "sns.boxplot(data=df[['X728_DIAS_COME_VERDURAS','X731_DIAS_CONSUME_ALIMENTOS_PROCESADOS','X733_DIAS_AGREGA_SAL']], palette='coolwarm', orient='h')"
      ]
    },
    {
      "cell_type": "markdown",
      "metadata": {
        "id": "U6NMIzeIIowz"
      },
      "source": [
        "Ahora sí se tiene una data más pareja"
      ]
    },
    {
      "cell_type": "markdown",
      "metadata": {
        "id": "7E9Ahe8bg5St"
      },
      "source": [
        "##Creación de dos nuevas columnas para conocer la frecuencia en la que se comen frutas y verduras\n",
        "\n"
      ]
    },
    {
      "cell_type": "code",
      "execution_count": 28,
      "metadata": {
        "id": "UWxx9gMyw6Mm"
      },
      "outputs": [],
      "source": [
        "df['FRECUENCIA_FRUTA'] = df['X726_DIAS_COME_FRUTA'].map({0:0, \n",
        "                                                             1:1,\n",
        "                                                             2:1,\n",
        "                                                             3:1,\n",
        "                                                             4:2,\n",
        "                                                             5:2,\n",
        "                                                             6:2,\n",
        "                                                             7:3})"
      ]
    },
    {
      "cell_type": "code",
      "execution_count": 29,
      "metadata": {
        "id": "Yj44AL82DN7c"
      },
      "outputs": [],
      "source": [
        "df['FRECUENCIA_VERDURA'] = df['X728_DIAS_COME_VERDURAS'].map({0:0, \n",
        "                                                             1:1,\n",
        "                                                             2:1,\n",
        "                                                             3:1,\n",
        "                                                             4:2,\n",
        "                                                             5:2,\n",
        "                                                             6:2,\n",
        "                                                             7:3})"
      ]
    },
    {
      "cell_type": "markdown",
      "metadata": {
        "id": "vvS8XVO95Zcu"
      },
      "source": [
        "Se eliminan las columnas que ya no son necesarias."
      ]
    },
    {
      "cell_type": "code",
      "execution_count": 30,
      "metadata": {
        "id": "ECi2jSWzy75n"
      },
      "outputs": [],
      "source": [
        "df.drop('X726_DIAS_COME_FRUTA',inplace=True,axis=1)"
      ]
    },
    {
      "cell_type": "code",
      "execution_count": 31,
      "metadata": {
        "id": "5FzTM-oqC8F7"
      },
      "outputs": [],
      "source": [
        "df.drop('X727_NUMERO_PORCIONES_ENTERO',inplace=True,axis=1)"
      ]
    },
    {
      "cell_type": "code",
      "execution_count": 32,
      "metadata": {
        "id": "stiiSMIaEhNn"
      },
      "outputs": [],
      "source": [
        "df.drop('X728_DIAS_COME_VERDURAS',inplace=True,axis=1)"
      ]
    },
    {
      "cell_type": "code",
      "execution_count": 33,
      "metadata": {
        "id": "GHVPQ1rJEkP_"
      },
      "outputs": [],
      "source": [
        "df.drop('X729_NUMERO_PORCIONES_VERDURAS_ENTERO',inplace=True,axis=1)"
      ]
    },
    {
      "cell_type": "markdown",
      "metadata": {
        "id": "-ZEzfSlFCGfr"
      },
      "source": [
        "Este es el total de columnas hasta el momento"
      ]
    },
    {
      "cell_type": "code",
      "execution_count": 34,
      "metadata": {
        "colab": {
          "base_uri": "https://localhost:8080/"
        },
        "id": "ReqSDP6U5YnI",
        "outputId": "29f08e51-5c45-4b59-ad1a-78f5ed9720f8"
      },
      "outputs": [
        {
          "name": "stdout",
          "output_type": "stream",
          "text": [
            "<class 'pandas.core.frame.DataFrame'>\n",
            "RangeIndex: 1083 entries, 0 to 1082\n",
            "Data columns (total 13 columns):\n",
            " #   Column                                  Non-Null Count  Dtype\n",
            "---  ------                                  --------------  -----\n",
            " 0   X401_SEXO                               1083 non-null   int64\n",
            " 1   X406_EDAD_AÑOS                          1083 non-null   int64\n",
            " 2   X408_PESO_NETO_ENTERO                   1083 non-null   int64\n",
            " 3   X410_TALLA_ENTERO                       1083 non-null   int64\n",
            " 4   X701_ACTIVIDAD_FISICA_VIGOROSA_DIAS     1083 non-null   int64\n",
            " 5   X703_ACTIVIDAD_FISICA_MODERADA_DIAS     1083 non-null   int64\n",
            " 6   X705_CAMINAR_DIAS                       1083 non-null   int64\n",
            " 7   X721_FRECUENCIA_CONSUMO_ALCOHOL         1083 non-null   int64\n",
            " 8   X731_DIAS_CONSUME_ALIMENTOS_PROCESADOS  1083 non-null   int64\n",
            " 9   X732_DIAS_CONSUME_ALIMENTOS_CHATARRA    1083 non-null   int64\n",
            " 10  X733_DIAS_AGREGA_SAL                    1083 non-null   int64\n",
            " 11  FRECUENCIA_FRUTA                        1083 non-null   int64\n",
            " 12  FRECUENCIA_VERDURA                      1083 non-null   int64\n",
            "dtypes: int64(13)\n",
            "memory usage: 110.1 KB\n"
          ]
        }
      ],
      "source": [
        "df.info()"
      ]
    },
    {
      "cell_type": "markdown",
      "metadata": {
        "id": "SV1EJiisDH3a"
      },
      "source": [
        "##Cálculo del IMC de cada individuo en 3 meses\n",
        "\n"
      ]
    },
    {
      "cell_type": "markdown",
      "metadata": {
        "id": "luOseW3bEh1W"
      },
      "source": [
        "Cálculo de las calorías quemadas (ejercicio) y las calorías ganadas (comida)"
      ]
    },
    {
      "cell_type": "code",
      "execution_count": 35,
      "metadata": {
        "id": "9F3QX3wkfySi"
      },
      "outputs": [],
      "source": [
        "quantity = len(df)"
      ]
    },
    {
      "cell_type": "code",
      "execution_count": 36,
      "metadata": {
        "id": "5dQNR7qGIjQU"
      },
      "outputs": [],
      "source": [
        "caloriasQuemadas=[]\n",
        "for index in range(len(df)):\n",
        "  value=0\n",
        "  value+=df['X701_ACTIVIDAD_FISICA_VIGOROSA_DIAS'][index]*374\n",
        "  value+=df['X703_ACTIVIDAD_FISICA_MODERADA_DIAS'][index]*365\n",
        "  value+=df['X705_CAMINAR_DIAS'][index]*314\n",
        "  \n",
        "  caloriasQuemadas.append(value)"
      ]
    },
    {
      "cell_type": "code",
      "execution_count": 37,
      "metadata": {
        "colab": {
          "base_uri": "https://localhost:8080/"
        },
        "id": "ZuF4qe3GMQ-E",
        "outputId": "3fbd3b7b-dd70-4e20-ee21-dbaa8c396932"
      },
      "outputs": [
        {
          "name": "stdout",
          "output_type": "stream",
          "text": [
            "[5127, 6659, 5929, 8849, 7057, 4559, 4045, 2937, 4775, 3108, 7371, 7754, 6294, 5196, 4245, 6979, 2531, 4045, 4673, 4771, 4918, 1418, 4185, 4673, 3404, 6863, 4295, 6294, 2471, 4669, 3566, 4789, 8119, 4045, 5929, 6345, 8849, 9477, 8535, 6235, 2905, 5089, 4637, 6549, 2471, 8849, 5857, 7371, 5911, 5663, 7279, 7593, 5403, 7593, 3939, 6294, 4287, 3685, 5403, 4724, 6549, 5929, 8119, 3973, 6133, 8119, 8119, 8119, 6345, 4433, 6659, 6294, 4673, 6294, 3820, 6396, 6235, 6659, 8119, 7279, 3667, 8119, 8849, 6761, 8119, 7057, 7440, 5717, 8849, 4873, 6294, 8535, 7287, 6165, 6605, 8747, 8119, 6863, 6549, 8747, 5454, 8747, 8017, 7389, 8119, 5136, 7440, 5127, 8119, 3930, 3769, 6294, 6557, 5537, 5917, 6235, 6557, 6979, 8849, 5038, 6922, 6235, 7754, 5247, 6863, 1995, 7754, 3871, 3925, 8119, 8119, 6965, 5127, 5181, 6174, 6659, 6659, 5768, 6235, 3871, 3736, 7371, 8221, 8119, 4724, 7907, 5196, 5929, 5615, 4933, 6184, 6396, 5870, 3787, 6133, 8535, 6031, 8849, 6082, 6396, 1053, 7024, 8017, 9477, 4287, 7233, 8535, 7907, 3473, 7440, 9477, 6965, 5089, 5095, 4975, 6294, 8221, 8849, 7440, 5870, 5929, 6235, 3931, 8119, 4724, 8382, 8119, 3353, 6922, 7440, 7024, 8849, 6294, 7754, 4673, 4987, 7279, 8849, 8849, 6231, 8849, 5229, 5487, 5929, 4673, 2480, 4969, 3252, 7754, 5615, 8017, 8535, 8535, 7279, 4775, 5929, 4045, 8221, 4987, 5929, 7279, 5717, 9477, 5454, 7279, 8221, 6710, 7287, 6396, 6922, 9477, 8535, 8849, 6659, 4987, 7024, 7024, 6294, 8119, 5403, 8849, 5929, 2896, 8119, 6632, 8849, 5603, 3676, 4604, 8849, 8849, 2937, 8849, 2794, 3353, 8849, 6318, 7389, 6605, 8119, 6294, 7593, 8382, 2309, 4045, 6318, 8119, 6659, 2115, 8119, 4993, 6294, 7413, 5902, 5929, 5884, 5929, 6659, 7593, 5136, 8221, 5127, 2411, 6557, 5061, 7727, 5546, 8101, 6863, 5519, 6863, 8119, 4050, 8119, 4840, 5755, 4673, 8849, 8101, 1418, 6147, 8119, 5755, 7389, 8535, 7279, 7279, 5929, 4424, 8119, 4568, 8849, 5089, 7389, 3557, 3099, 6082, 7491, 7440, 6235, 8119, 8119, 8119, 3829, 2836, 5666, 7279, 8747, 4050, 7279, 8221, 4661, 6345, 9477, 6710, 3931, 1681, 8849, 6294, 3676, 8849, 8221, 3829, 4410, 4484, 5172, 6294, 8101, 7279, 8849, 8849, 8119, 5229, 8849, 4050, 5352, 1367, 6659, 7024, 8101, 5875, 4050, 6659, 6549, 5875, 8849, 4397, 7440, 5038, 4359, 8535, 8535, 7279, 7907, 8849, 8119, 5666, 7126, 5247, 7440, 8119, 2863, 7440, 8535, 8382, 9477, 9477, 3602, 8849, 7279, 8849, 8849, 7593, 3270, 5819, 3871, 4762, 8119, 7593, 8119, 5127, 8747, 8119, 7279, 4406, 6294, 6294, 5403, 5768, 7593, 9477, 7389, 7279, 8849, 5929, 7389, 7279, 6979, 8849, 8849, 7389, 4873, 5929, 9477, 6498, 9477, 7279, 9477, 8221, 7279, 7593, 8119, 5403, 4287, 4900, 6761, 6632, 8535, 4724, 5870, 5140, 6557, 7287, 8849, 8221, 8535, 9477, 7279, 6965, 8535, 7981, 7024, 6659, 7024, 8535, 8119, 6004, 5223, 8535, 6761, 7279, 8535, 2420, 8221, 8221, 5229, 4673, 7413, 6512, 7279, 7279, 3676, 4915, 6294, 8849, 6659, 4484, 2845, 5870, 6351, 5857, 6082, 7907, 5038, 7279, 4775, 6710, 4359, 7440, 4721, 5289, 7593, 7440, 9477, 7593, 8535, 6235, 3991, 5929, 6659, 5454, 6659, 7652, 8119, 6249, 7413, 5980, 6659, 6369, 3302, 4789, 8849, 6498, 6965, 8119, 5301, 7389, 6812, 6863, 7805, 4813, 4987, 8747, 6710, 8535, 6659, 4347, 6659, 6812, 6863, 2489, 8017, 8849, 5229, 7126, 5666, 5301, 5501, 3685, 7024, 7389, 6859, 6965, 7440, 8849, 6345, 4975, 5603, 8849, 5089, 7593, 8221, 7593, 4287, 9477, 8849, 9477, 8535, 7371, 6659, 7279, 6138, 8849, 4245, 8849, 7491, 6294, 7024, 8849, 7269, 7754, 6294, 6294, 6235, 5247, 7907, 4009, 7491, 7593, 5929, 7287, 7279, 8221, 8535, 2674, 6965, 8101, 4748, 6965, 8119, 5247, 7593, 5911, 4628, 5666, 8119, 6965, 4287, 6965, 5929, 8849, 7907, 8849, 8221, 6557, 6863, 6291, 7279, 8221, 8221, 4775, 7907, 8221, 7593, 8221, 7075, 7593, 5929, 5929, 7279, 4724, 5875, 4673, 5352, 7593, 5352, 3302, 3362, 2166, 4771, 8221, 6761, 3270, 4143, 7389, 8747, 7907, 6979, 8119, 8221, 7024, 5301, 6965, 8849, 5537, 8119, 4415, 8119, 5127, 6557, 4410, 6659, 2522, 6055, 7279, 6557, 6812, 6863, 8849, 6294, 3685, 3787, 4161, 6965, 9477, 4410, 2522, 9477, 4780, 7593, 7727, 5403, 8849, 6659, 8221, 7593, 7389, 5543, 7907, 6294, 4041, 4987, 7754, 8849, 5154, 8849, 7593, 5301, 4724, 8535, 6294, 7371, 2429, 5980, 4347, 7287, 5301, 5061, 7491, 8119, 8221, 6710, 4493, 1801, 7287, 4724, 3431, 5505, 6965, 5163, 6498, 5403, 5352, 3930, 8119, 8535, 6965, 6294, 6031, 7593, 5390, 7593, 8221, 5038, 8119, 3099, 7593, 5717, 2420, 8535, 7754, 8849, 6761, 8849, 5929, 4724, 7907, 6521, 2480, 6129, 5038, 7907, 6659, 4721, 6498, 7754, 5819, 6863, 9477, 4359, 8535, 9477, 7389, 5929, 8747, 8119, 8119, 7389, 3931, 5875, 4406, 6549, 2360, 8119, 6710, 4807, 3940, 4669, 7491, 5995, 6396, 7754, 7389, 7024, 7440, 3736, 5038, 5819, 7279, 9477, 9477, 6659, 6922, 7075, 7024, 3676, 5089, 6965, 6761, 6922, 6294, 5403, 5717, 4045, 4724, 3099, 8119, 5127, 9477, 4655, 8119, 5062, 7260, 7260, 8747, 5172, 5301, 8119, 7279, 7287, 5181, 7389, 7593, 8849, 6294, 5403, 5145, 4101, 5505, 9477, 6659, 6659, 9477, 7279, 4397, 7024, 5403, 8535, 7075, 7907, 8221, 6812, 8747, 5501, 3542, 5061, 8849, 7075, 5403, 7907, 5929, 5501, 8119, 5403, 7279, 7371, 7006, 5352, 5181, 7024, 6812, 6965, 6557, 5403, 6291, 5929, 8119, 6557, 6965, 6659, 6129, 3159, 3949, 7805, 7177, 4762, 8119, 8747, 9477, 6863, 8119, 4873, 5615, 4050, 4041, 8535, 8535, 3973, 5089, 6761, 7907, 8849, 5038, 8221, 2157, 3667, 2046, 7593, 3243, 3930, 5403, 5717, 7057, 8119, 6294, 2937, 4406, 7491, 5875, 6276, 7024, 3482, 8221, 7075, 4287, 5038, 5980, 7279, 5857, 9477, 4045, 8849, 6863, 8119, 8747, 2836, 4415, 6632, 8849, 9477, 7754, 8747, 6184, 3880, 6659, 9477, 9477, 7260, 8382, 1801, 9477, 6863, 6498, 2623, 5127, 6235, 7177, 3159, 2309, 4517, 6396, 5501, 5301, 7440, 8221, 3930, 8849, 6979, 5929, 6659, 2997, 9477, 5528, 7491, 8119, 6294, 8119, 5875, 6129, 4601, 7279, 6557, 6761, 7389, 7593, 7491, 5666, 2836, 6396, 6922, 8747, 9477, 9477, 8849, 7440, 6605, 2097, 6965, 5819, 1427, 4775, 7593, 6863, 7287, 8747, 8747, 8747, 1418, 3617, 6623, 4050, 5929, 3667, 5140, 7287, 7593, 2411, 6710, 8101, 2513, 5801, 8119, 6133, 6318, 6082, 5875, 6345, 8849, 7440, 6294, 7491, 9477, 8119, 4397, 5454, 4780, 4619, 6761, 3302, 4762, 8849, 6632, 9477, 7279, 6761, 7593, 8849, 5537, 6184, 9477, 5229, 7389, 5929, 7024, 4397, 5929, 4245, 6549, 3261, 8747, 6557, 8221, 2309, 7593, 8221, 4724, 9477, 6659, 3829, 6659, 8221, 6082, 2360, 6258, 6294, 5929, 7754, 2115, 8535, 4987, 8849, 7491, 8849, 7279, 2055, 4475, 8849, 6318, 8849, 5301, 6965, 4170, 4673, 5875, 8747, 7389, 5136, 5172, 5537, 8849, 3973, 5038, 8119]\n"
          ]
        }
      ],
      "source": [
        "print(caloriasQuemadas)"
      ]
    },
    {
      "cell_type": "code",
      "execution_count": 38,
      "metadata": {
        "id": "0VYNhuHpOk7v"
      },
      "outputs": [],
      "source": [
        "caloriasGanadas=[]\n",
        "for index in range(len(df)):\n",
        "  value=0\n",
        "  value+=df['X731_DIAS_CONSUME_ALIMENTOS_PROCESADOS'][index]*508\n",
        "  value+=df['X732_DIAS_CONSUME_ALIMENTOS_CHATARRA'][index]*600\n",
        "  value+=df['FRECUENCIA_FRUTA'][index]*100\n",
        "  value+=df['FRECUENCIA_VERDURA'][index]*51\n",
        "  \n",
        "  caloriasGanadas.append(value)"
      ]
    },
    {
      "cell_type": "code",
      "execution_count": 39,
      "metadata": {
        "colab": {
          "base_uri": "https://localhost:8080/"
        },
        "id": "sDXs7o3rPbgQ",
        "outputId": "9904d9ff-f750-4868-e769-95e18fd8ea8e"
      },
      "outputs": [
        {
          "name": "stdout",
          "output_type": "stream",
          "text": [
            "[961, 2926, 151, 1767, 2275, 4551, 1208, 100, 151, 1259, 1900, 1167, 1267, 608, 759, 2059, 951, 100, 200, 1167, 659, 751, 802, 710, 761, 300, 1800, 151, 751, 151, 659, 1167, 202, 151, 2669, 1926, 1369, 1116, 3159, 4126, 2183, 1259, 1859, 1767, 1108, 251, 1167, 1208, 1726, 0, 0, 351, 1926, 1053, 2202, 2002, 300, 151, 1002, 1451, 851, 808, 100, 100, 151, 351, 151, 2475, 1167, 1259, 151, 453, 802, 202, 151, 3169, 1767, 751, 1259, 1259, 5059, 3851, 1469, 1459, 7907, 1167, 3210, 2377, 710, 151, 4502, 1259, 151, 1310, 351, 1451, 2967, 759, 1053, 1318, 1951, 951, 151, 202, 453, 100, 151, 151, 2459, 1867, 151, 100, 100, 253, 761, 100, 300, 251, 351, 351, 1369, 302, 1167, 151, 751, 251, 202, 1551, 251, 559, 151, 251, 2469, 951, 1918, 1259, 1318, 402, 100, 1167, 1967, 751, 1318, 2069, 1053, 1410, 6483, 1259, 2459, 1267, 1875, 1318, 1767, 1269, 1867, 4726, 3526, 751, 3159, 4910, 302, 5618, 1459, 2602, 1053, 659, 1418, 2018, 802, 659, 700, 51, 2651, 810, 1167, 1259, 253, 2710, 1351, 1259, 3202, 1259, 3067, 1859, 2032, 608, 2018, 1818, 710, 2475, 751, 4024, 1259, 761, 2426, 5216, 200, 4075, 1775, 2183, 2283, 3516, 351, 402, 3424, 4440, 751, 1410, 2375, 1410, 1959, 1267, 2510, 2459, 659, 3067, 1602, 2275, 3475, 2459, 3167, 2418, 1359, 2724, 1708, 1259, 3667, 2926, 800, 2183, 2659, 1259, 1767, 1459, 2975, 5599, 251, 4300, 453, 2610, 4910, 5875, 3659, 2577, 659, 3577, 4226, 2367, 1859, 2659, 2602, 1461, 100, 351, 151, 659, 659, 1402, 1453, 2161, 151, 751, 1875, 2161, 659, 0, 151, 151, 751, 151, 151, 0, 4859, 2459, 151, 751, 751, 300, 253, 2326, 659, 1361, 859, 100, 951, 1361, 1967, 151, 659, 1351, 1351, 1418, 951, 853, 2500, 1259, 659, 1300, 1002, 402, 851, 1561, 1900, 151, 51, 253, 100, 100, 1951, 3167, 608, 151, 351, 659, 202, 1167, 100, 151, 351, 351, 2551, 1818, 2824, 1859, 508, 151, 1767, 659, 2567, 4116, 1977, 4358, 2018, 3151, 1053, 4583, 2518, 1951, 151, 4307, 6707, 2359, 2551, 1361, 1259, 1453, 4507, 2559, 2110, 4551, 751, 1053, 4500, 3659, 751, 1867, 1818, 4453, 100, 100, 1951, 2875, 5875, 2924, 1208, 453, 151, 802, 3218, 3259, 3983, 402, 1551, 1259, 1167, 5618, 2559, 2510, 1859, 1451, 859, 4053, 700, 2526, 2002, 1451, 1675, 710, 453, 4551, 2151, 1361, 659, 2459, 1359, 100, 100, 910, 1310, 251, 961, 3802, 0, 151, 151, 1453, 8107, 4402, 1767, 4358, 1908, 251, 251, 2567, 1259, 851, 453, 151, 251, 302, 5059, 751, 2151, 151, 351, 151, 151, 251, 151, 151, 351, 951, 5283, 1767, 3726, 1269, 2202, 1267, 151, 751, 659, 453, 453, 1459, 859, 1951, 1867, 1351, 353, 2518, 1169, 810, 4034, 2426, 3075, 453, 1767, 151, 3075, 4134, 861, 1961, 3075, 910, 2875, 3634, 3067, 3718, 3375, 910, 4034, 1269, 453, 2161, 151, 910, 202, 3218, 1967, 859, 1510, 1910, 2500, 2418, 5150, 1726, 1877, 2477, 151, 5367, 5367, 1959, 1767, 4653, 1561, 2053, 851, 1053, 910, 802, 1369, 2875, 3075, 1002, 1459, 1959, 453, 1361, 1361, 251, 2516, 3159, 1900, 1900, 3202, 402, 951, 2761, 302, 351, 251, 351, 1926, 3067, 1767, 4759, 1910, 1359, 2267, 1859, 4075, 1351, 100, 2367, 659, 802, 1359, 3026, 2161, 951, 1875, 2459, 1002, 2802, 151, 1351, 3659, 402, 2475, 4542, 1259, 1002, 1208, 2018, 659, 710, 1510, 1310, 3301, 761, 351, 2559, 200, 1359, 710, 1167, 1310, 3577, 3769, 6383, 4218, 3018, 4307, 2367, 3075, 1269, 2834, 2418, 1967, 5691, 1767, 1716, 1259, 1561, 6583, 2451, 1459, 1410, 2577, 3361, 2659, 5091, 961, 1310, 2061, 802, 951, 5091, 3067, 3075, 1408, 2559, 3559, 1267, 3361, 608, 810, 1116, 1310, 1310, 1359, 6583, 1359, 3202, 3567, 2710, 5010, 3659, 1402, 4653, 2516, 1259, 1259, 1867, 1767, 3567, 2083, 1259, 1259, 1402, 4075, 3218, 2983, 1859, 1461, 953, 5875, 961, 4910, 3575, 1726, 2875, 2526, 1259, 2059, 2367, 2367, 300, 1310, 3008, 1318, 3434, 1510, 1351, 1675, 961, 4507, 2661, 5607, 4810, 4175, 4885, 3300, 351, 2567, 1767, 1902, 2459, 1316, 1859, 6383, 3424, 1859, 1859, 4167, 5142, 6907, 5707, 4193, 5367, 3067, 1359, 961, 7856, 2367, 2916, 1908, 4259, 3159, 8007, 5209, 4183, 1410, 5567, 6391, 802, 3659, 151, 2275, 751, 251, 810, 2459, 1859, 953, 659, 251, 4267, 2059, 3508, 3567, 1951, 402, 3110, 1367, 2326, 1208, 251, 3753, 4910, 5059, 2275, 4402, 151, 151, 302, 810, 1402, 2375, 2610, 3159, 659, 1351, 859, 1367, 4351, 1818, 2110, 4177, 2659, 2710, 1500, 2367, 1259, 1208, 1967, 902, 1961, 4351, 2659, 1959, 753, 2253, 3810, 1108, 3475, 251, 2967, 1977, 1459, 5556, 5107, 4024, 1859, 2975, 1261, 2761, 2567, 3075, 1824, 2467, 759, 1767, 700, 1351, 4259, 2275, 3475, 1167, 351, 202, 1767, 3302, 751, 1859, 853, 4859, 1951, 100, 1900, 100, 151, 151, 100, 1408, 1408, 3856, 100, 2567, 151, 151, 151, 100, 802, 151, 202, 1108, 2875, 1410, 1453, 851, 151, 100, 3659, 1767, 751, 751, 3508, 2059, 3567, 859, 1767, 2885, 151, 851, 202, 2783, 659, 708, 1959, 2602, 5183, 808, 2059, 751, 1351, 1259, 1867, 1459, 853, 659, 751, 151, 202, 202, 1300, 659, 1318, 961, 1959, 351, 659, 1259, 2202, 2853, 2569, 1259, 1867, 2367, 3167, 2967, 4183, 1167, 1351, 151, 751, 1967, 5158, 1167, 251, 151, 659, 351, 1200, 151, 1116, 1367, 2551, 351, 1167, 3202, 151, 700, 751, 151, 1167, 659, 1767, 1867, 3516, 800, 3608, 700, 4300, 5285, 1310, 1116, 2469, 151, 1767, 1310, 0, 1300, 151, 151, 253, 151, 751, 351, 151, 151, 151, 2110, 1259, 3059, 100, 1724, 1208, 600, 1208, 1208, 1267, 1859, 2659, 1959, 4402, 100, 1300, 151, 2253, 761, 1218, 1259, 3442, 1675, 1867, 1259, 1359, 351, 1510, 1200, 2053, 1859, 453, 1867, 3151, 1002, 3334, 3018, 2459, 1951, 4200, 351, 2051, 4167, 2367, 751, 3067, 151, 302, 2375, 608, 1967, 2510, 2659, 1469, 202, 453, 651, 1959, 453, 1859, 3059, 2367, 1859, 4418, 659, 659, 2567, 1259, 4351, 3016, 5008, 253, 151, 953, 1869, 3567, 608, 1502, 910, 4551, 1551, 100, 351, 951, 1359, 3067, 1767, 2367, 4409, 900, 351, 1251, 3375, 608, 951, 151, 600, 351, 2375, 1826, 1259, 1267, 253, 3067, 861, 3218, 659, 2375, 759, 1259, 659, 759, 759, 1218, 3567, 1959, 2367, 1359, 151, 1959, 300, 351, 100, 251, 910, 1259, 1859, 1818, 1002, 2110, 3018, 1259, 1510, 1959, 1653, 1459, 759, 3983, 1561, 1510, 659, 1351, 4234, 1361, 1816, 3024, 2975, 3069, 2053, 3567, 453, 3251, 3600, 1116, 2967, 2559, 1167, 3026, 2375, 1675, 559, 751, 1359, 1367, 251, 608, 100, 802, 1675, 1951, 751]\n"
          ]
        }
      ],
      "source": [
        "print(caloriasGanadas)"
      ]
    },
    {
      "cell_type": "markdown",
      "metadata": {
        "id": "VoXrRyoDEsUF"
      },
      "source": [
        "Cálculo del IMC que tendrá cada individuo de acá a tres meses y se categoriza en si tendrán sobrepeso (1) o no (0)"
      ]
    },
    {
      "cell_type": "code",
      "execution_count": 40,
      "metadata": {
        "id": "TrCTvG7YMTZZ"
      },
      "outputs": [],
      "source": [
        "IMCesperado=[]\n",
        "for index in range(len(df)):\n",
        "  newPeso=df['X408_PESO_NETO_ENTERO'][index]-(caloriasQuemadas[index]*21-caloriasGanadas[index])/7000\n",
        "  value=newPeso/((df['X410_TALLA_ENTERO'][index]/100)**2)\n",
        "  if value>25:\n",
        "    IMCesperado.append(1)\n",
        "  else:\n",
        "    IMCesperado.append(0)\n",
        "  "
      ]
    },
    {
      "cell_type": "code",
      "execution_count": 41,
      "metadata": {
        "colab": {
          "base_uri": "https://localhost:8080/"
        },
        "id": "x7n3hRHPRNZx",
        "outputId": "421b9d01-ec02-4f37-fdba-cca2bdde00bc"
      },
      "outputs": [
        {
          "name": "stdout",
          "output_type": "stream",
          "text": [
            "[1, 0, 0, 1, 0, 0, 0, 0, 0, 1, 0, 0, 0, 0, 0, 0, 0, 0, 0, 0, 0, 0, 1, 0, 1, 0, 0, 1, 0, 0, 0, 0, 0, 1, 1, 0, 0, 1, 0, 1, 1, 1, 1, 1, 0, 0, 0, 0, 0, 0, 0, 0, 1, 0, 0, 0, 1, 0, 0, 0, 0, 0, 0, 0, 0, 0, 0, 0, 0, 0, 0, 0, 0, 1, 0, 0, 0, 0, 0, 0, 0, 0, 0, 0, 0, 0, 0, 1, 1, 1, 0, 1, 1, 1, 0, 1, 0, 0, 0, 1, 0, 0, 0, 0, 0, 0, 0, 0, 1, 0, 1, 0, 0, 0, 1, 1, 0, 0, 0, 0, 0, 1, 0, 0, 0, 0, 0, 0, 0, 1, 0, 0, 1, 0, 1, 0, 0, 0, 0, 0, 0, 0, 0, 0, 1, 0, 1, 0, 1, 1, 0, 0, 0, 1, 0, 0, 0, 0, 1, 1, 1, 0, 0, 0, 1, 0, 0, 1, 1, 0, 0, 0, 0, 0, 0, 0, 0, 0, 1, 0, 0, 1, 0, 0, 0, 0, 0, 1, 0, 1, 1, 0, 1, 0, 1, 1, 1, 0, 0, 0, 0, 0, 0, 0, 0, 1, 0, 1, 0, 0, 0, 0, 1, 0, 1, 1, 1, 0, 0, 1, 0, 0, 0, 0, 1, 0, 1, 1, 0, 0, 0, 0, 1, 0, 0, 0, 0, 0, 1, 0, 0, 1, 1, 0, 1, 0, 0, 1, 0, 1, 0, 0, 1, 1, 0, 0, 1, 0, 0, 0, 1, 1, 1, 0, 0, 0, 0, 0, 0, 0, 0, 0, 0, 0, 0, 0, 0, 0, 0, 0, 0, 0, 0, 0, 0, 0, 0, 0, 0, 0, 0, 0, 1, 0, 0, 1, 1, 1, 0, 1, 0, 0, 1, 1, 0, 1, 0, 0, 1, 0, 0, 0, 0, 0, 1, 0, 0, 0, 0, 0, 0, 0, 0, 0, 0, 0, 0, 0, 0, 0, 0, 1, 1, 0, 0, 0, 0, 1, 0, 1, 0, 0, 1, 0, 1, 1, 0, 1, 1, 0, 0, 0, 0, 0, 0, 0, 1, 0, 0, 0, 0, 0, 0, 0, 0, 0, 0, 0, 0, 1, 0, 1, 0, 0, 1, 0, 0, 0, 1, 0, 0, 0, 0, 0, 0, 1, 1, 1, 1, 0, 0, 0, 0, 1, 0, 0, 1, 0, 0, 0, 0, 0, 0, 0, 1, 0, 0, 0, 0, 0, 0, 1, 0, 0, 0, 0, 0, 0, 1, 1, 0, 0, 0, 0, 1, 0, 0, 0, 0, 1, 1, 0, 1, 0, 1, 0, 1, 1, 0, 0, 1, 1, 0, 0, 0, 0, 0, 1, 1, 0, 0, 0, 0, 0, 0, 1, 0, 0, 0, 1, 0, 0, 0, 0, 0, 0, 0, 0, 0, 1, 0, 1, 0, 0, 0, 0, 0, 0, 1, 0, 0, 1, 0, 0, 0, 0, 0, 0, 1, 1, 0, 0, 0, 0, 0, 0, 0, 0, 1, 1, 1, 0, 0, 0, 0, 0, 0, 0, 0, 0, 1, 0, 1, 1, 0, 0, 0, 0, 0, 0, 0, 1, 0, 0, 1, 0, 0, 0, 0, 0, 1, 0, 0, 0, 0, 1, 1, 0, 1, 1, 0, 1, 0, 0, 1, 1, 0, 0, 0, 0, 0, 0, 0, 1, 0, 0, 0, 0, 0, 0, 1, 0, 0, 0, 0, 0, 1, 1, 0, 1, 0, 0, 0, 1, 1, 0, 0, 1, 0, 1, 1, 1, 0, 1, 1, 0, 1, 1, 0, 0, 1, 0, 0, 0, 1, 1, 1, 0, 0, 0, 1, 0, 0, 0, 0, 0, 0, 0, 0, 0, 0, 0, 0, 0, 0, 1, 0, 0, 0, 1, 1, 1, 0, 1, 1, 0, 1, 1, 1, 0, 0, 0, 1, 0, 0, 0, 0, 0, 0, 1, 0, 1, 1, 0, 1, 0, 0, 0, 1, 0, 1, 0, 0, 0, 0, 0, 1, 0, 0, 0, 1, 0, 0, 0, 0, 1, 1, 0, 0, 0, 0, 1, 0, 1, 0, 1, 1, 0, 0, 0, 0, 0, 0, 1, 0, 0, 0, 1, 1, 1, 1, 1, 0, 1, 0, 0, 0, 0, 0, 0, 0, 0, 1, 0, 0, 0, 0, 0, 1, 1, 1, 1, 0, 1, 0, 1, 1, 0, 0, 0, 0, 1, 1, 0, 0, 1, 0, 1, 1, 0, 0, 0, 0, 0, 1, 1, 0, 0, 1, 0, 0, 0, 0, 0, 1, 1, 0, 0, 1, 1, 0, 0, 0, 0, 0, 0, 0, 1, 1, 0, 1, 0, 1, 1, 0, 0, 1, 0, 0, 0, 1, 0, 1, 1, 0, 0, 1, 0, 0, 0, 0, 1, 0, 0, 0, 1, 0, 0, 0, 0, 0, 0, 0, 1, 0, 0, 0, 0, 0, 0, 0, 0, 0, 0, 0, 0, 0, 0, 0, 0, 0, 0, 0, 0, 0, 0, 0, 0, 0, 0, 0, 0, 0, 0, 0, 1, 1, 0, 0, 0, 0, 1, 1, 1, 1, 0, 0, 0, 0, 1, 1, 0, 0, 0, 0, 0, 0, 0, 0, 0, 0, 0, 0, 0, 1, 0, 0, 0, 0, 1, 0, 0, 1, 1, 0, 0, 1, 0, 0, 1, 0, 0, 0, 0, 0, 0, 0, 0, 0, 0, 0, 1, 1, 0, 0, 1, 0, 0, 1, 1, 0, 1, 0, 0, 0, 1, 0, 0, 0, 0, 1, 1, 0, 0, 1, 0, 0, 0, 0, 0, 1, 0, 0, 0, 0, 0, 0, 0, 0, 0, 0, 0, 0, 0, 0, 0, 0, 0, 0, 0, 1, 0, 0, 1, 0, 1, 1, 0, 1, 1, 0, 0, 0, 0, 1, 0, 0, 1, 0, 0, 0, 0, 1, 0, 0, 1, 0, 0, 1, 1, 0, 0, 1, 1, 0, 0, 0, 0, 0, 0, 0, 0, 0, 1, 0, 1, 1, 1, 0, 1, 0, 0, 1, 1, 1, 0, 0, 0, 0, 0, 0, 0, 0, 1, 1, 0, 1, 0, 0, 0, 0, 0, 0, 1, 0, 1, 0, 0, 0, 0, 0, 0, 1, 0, 0, 1, 0, 1, 0, 1, 0, 0, 0, 0, 0, 1, 0, 0, 0, 1, 1, 1, 0, 0, 0, 0, 0, 0, 0, 0, 0, 0, 1, 0, 0, 0, 0, 0, 0, 1, 1, 0, 0, 1, 1, 1, 0, 1, 1, 0, 0, 1, 0, 0, 1, 0, 1, 1, 1, 0, 1, 1, 1, 0, 0, 0, 0, 1, 1, 0, 0, 0, 0]\n"
          ]
        }
      ],
      "source": [
        "print(IMCesperado)"
      ]
    },
    {
      "cell_type": "markdown",
      "metadata": {
        "id": "69YKyOCIFjqV"
      },
      "source": [
        "###Creación de la columna IMCesperado"
      ]
    },
    {
      "cell_type": "code",
      "execution_count": 42,
      "metadata": {
        "id": "1mtF9v5JQMgD"
      },
      "outputs": [],
      "source": [
        "df['IMCesperado']=IMCesperado"
      ]
    },
    {
      "cell_type": "code",
      "execution_count": 43,
      "metadata": {
        "colab": {
          "base_uri": "https://localhost:8080/",
          "height": 270
        },
        "id": "ZiZLLg6nQPI7",
        "outputId": "7373ffee-3130-4362-e739-fdde103f04ed"
      },
      "outputs": [
        {
          "data": {
            "text/html": [
              "\n",
              "  <div id=\"df-6c164c06-0f85-467e-aa2e-bf1b69b39d8a\">\n",
              "    <div class=\"colab-df-container\">\n",
              "      <div>\n",
              "<style scoped>\n",
              "    .dataframe tbody tr th:only-of-type {\n",
              "        vertical-align: middle;\n",
              "    }\n",
              "\n",
              "    .dataframe tbody tr th {\n",
              "        vertical-align: top;\n",
              "    }\n",
              "\n",
              "    .dataframe thead th {\n",
              "        text-align: right;\n",
              "    }\n",
              "</style>\n",
              "<table border=\"1\" class=\"dataframe\">\n",
              "  <thead>\n",
              "    <tr style=\"text-align: right;\">\n",
              "      <th></th>\n",
              "      <th>X401_SEXO</th>\n",
              "      <th>X406_EDAD_AÑOS</th>\n",
              "      <th>X408_PESO_NETO_ENTERO</th>\n",
              "      <th>X410_TALLA_ENTERO</th>\n",
              "      <th>X701_ACTIVIDAD_FISICA_VIGOROSA_DIAS</th>\n",
              "      <th>X703_ACTIVIDAD_FISICA_MODERADA_DIAS</th>\n",
              "      <th>X705_CAMINAR_DIAS</th>\n",
              "      <th>X721_FRECUENCIA_CONSUMO_ALCOHOL</th>\n",
              "      <th>X731_DIAS_CONSUME_ALIMENTOS_PROCESADOS</th>\n",
              "      <th>X732_DIAS_CONSUME_ALIMENTOS_CHATARRA</th>\n",
              "      <th>X733_DIAS_AGREGA_SAL</th>\n",
              "      <th>FRECUENCIA_FRUTA</th>\n",
              "      <th>FRECUENCIA_VERDURA</th>\n",
              "      <th>IMCesperado</th>\n",
              "    </tr>\n",
              "  </thead>\n",
              "  <tbody>\n",
              "    <tr>\n",
              "      <th>0</th>\n",
              "      <td>0</td>\n",
              "      <td>59</td>\n",
              "      <td>79</td>\n",
              "      <td>165</td>\n",
              "      <td>1</td>\n",
              "      <td>7</td>\n",
              "      <td>7</td>\n",
              "      <td>4</td>\n",
              "      <td>1</td>\n",
              "      <td>0</td>\n",
              "      <td>0</td>\n",
              "      <td>3</td>\n",
              "      <td>3</td>\n",
              "      <td>1</td>\n",
              "    </tr>\n",
              "    <tr>\n",
              "      <th>1</th>\n",
              "      <td>0</td>\n",
              "      <td>22</td>\n",
              "      <td>71</td>\n",
              "      <td>182</td>\n",
              "      <td>9</td>\n",
              "      <td>3</td>\n",
              "      <td>7</td>\n",
              "      <td>4</td>\n",
              "      <td>3</td>\n",
              "      <td>2</td>\n",
              "      <td>0</td>\n",
              "      <td>1</td>\n",
              "      <td>2</td>\n",
              "      <td>0</td>\n",
              "    </tr>\n",
              "    <tr>\n",
              "      <th>2</th>\n",
              "      <td>0</td>\n",
              "      <td>30</td>\n",
              "      <td>56</td>\n",
              "      <td>155</td>\n",
              "      <td>9</td>\n",
              "      <td>1</td>\n",
              "      <td>7</td>\n",
              "      <td>4</td>\n",
              "      <td>0</td>\n",
              "      <td>0</td>\n",
              "      <td>0</td>\n",
              "      <td>1</td>\n",
              "      <td>1</td>\n",
              "      <td>0</td>\n",
              "    </tr>\n",
              "    <tr>\n",
              "      <th>3</th>\n",
              "      <td>1</td>\n",
              "      <td>27</td>\n",
              "      <td>82</td>\n",
              "      <td>156</td>\n",
              "      <td>9</td>\n",
              "      <td>9</td>\n",
              "      <td>7</td>\n",
              "      <td>5</td>\n",
              "      <td>2</td>\n",
              "      <td>1</td>\n",
              "      <td>0</td>\n",
              "      <td>1</td>\n",
              "      <td>1</td>\n",
              "      <td>1</td>\n",
              "    </tr>\n",
              "    <tr>\n",
              "      <th>4</th>\n",
              "      <td>0</td>\n",
              "      <td>34</td>\n",
              "      <td>54</td>\n",
              "      <td>163</td>\n",
              "      <td>7</td>\n",
              "      <td>7</td>\n",
              "      <td>6</td>\n",
              "      <td>5</td>\n",
              "      <td>3</td>\n",
              "      <td>1</td>\n",
              "      <td>0</td>\n",
              "      <td>1</td>\n",
              "      <td>1</td>\n",
              "      <td>0</td>\n",
              "    </tr>\n",
              "  </tbody>\n",
              "</table>\n",
              "</div>\n",
              "      <button class=\"colab-df-convert\" onclick=\"convertToInteractive('df-6c164c06-0f85-467e-aa2e-bf1b69b39d8a')\"\n",
              "              title=\"Convert this dataframe to an interactive table.\"\n",
              "              style=\"display:none;\">\n",
              "        \n",
              "  <svg xmlns=\"http://www.w3.org/2000/svg\" height=\"24px\"viewBox=\"0 0 24 24\"\n",
              "       width=\"24px\">\n",
              "    <path d=\"M0 0h24v24H0V0z\" fill=\"none\"/>\n",
              "    <path d=\"M18.56 5.44l.94 2.06.94-2.06 2.06-.94-2.06-.94-.94-2.06-.94 2.06-2.06.94zm-11 1L8.5 8.5l.94-2.06 2.06-.94-2.06-.94L8.5 2.5l-.94 2.06-2.06.94zm10 10l.94 2.06.94-2.06 2.06-.94-2.06-.94-.94-2.06-.94 2.06-2.06.94z\"/><path d=\"M17.41 7.96l-1.37-1.37c-.4-.4-.92-.59-1.43-.59-.52 0-1.04.2-1.43.59L10.3 9.45l-7.72 7.72c-.78.78-.78 2.05 0 2.83L4 21.41c.39.39.9.59 1.41.59.51 0 1.02-.2 1.41-.59l7.78-7.78 2.81-2.81c.8-.78.8-2.07 0-2.86zM5.41 20L4 18.59l7.72-7.72 1.47 1.35L5.41 20z\"/>\n",
              "  </svg>\n",
              "      </button>\n",
              "      \n",
              "  <style>\n",
              "    .colab-df-container {\n",
              "      display:flex;\n",
              "      flex-wrap:wrap;\n",
              "      gap: 12px;\n",
              "    }\n",
              "\n",
              "    .colab-df-convert {\n",
              "      background-color: #E8F0FE;\n",
              "      border: none;\n",
              "      border-radius: 50%;\n",
              "      cursor: pointer;\n",
              "      display: none;\n",
              "      fill: #1967D2;\n",
              "      height: 32px;\n",
              "      padding: 0 0 0 0;\n",
              "      width: 32px;\n",
              "    }\n",
              "\n",
              "    .colab-df-convert:hover {\n",
              "      background-color: #E2EBFA;\n",
              "      box-shadow: 0px 1px 2px rgba(60, 64, 67, 0.3), 0px 1px 3px 1px rgba(60, 64, 67, 0.15);\n",
              "      fill: #174EA6;\n",
              "    }\n",
              "\n",
              "    [theme=dark] .colab-df-convert {\n",
              "      background-color: #3B4455;\n",
              "      fill: #D2E3FC;\n",
              "    }\n",
              "\n",
              "    [theme=dark] .colab-df-convert:hover {\n",
              "      background-color: #434B5C;\n",
              "      box-shadow: 0px 1px 3px 1px rgba(0, 0, 0, 0.15);\n",
              "      filter: drop-shadow(0px 1px 2px rgba(0, 0, 0, 0.3));\n",
              "      fill: #FFFFFF;\n",
              "    }\n",
              "  </style>\n",
              "\n",
              "      <script>\n",
              "        const buttonEl =\n",
              "          document.querySelector('#df-6c164c06-0f85-467e-aa2e-bf1b69b39d8a button.colab-df-convert');\n",
              "        buttonEl.style.display =\n",
              "          google.colab.kernel.accessAllowed ? 'block' : 'none';\n",
              "\n",
              "        async function convertToInteractive(key) {\n",
              "          const element = document.querySelector('#df-6c164c06-0f85-467e-aa2e-bf1b69b39d8a');\n",
              "          const dataTable =\n",
              "            await google.colab.kernel.invokeFunction('convertToInteractive',\n",
              "                                                     [key], {});\n",
              "          if (!dataTable) return;\n",
              "\n",
              "          const docLinkHtml = 'Like what you see? Visit the ' +\n",
              "            '<a target=\"_blank\" href=https://colab.research.google.com/notebooks/data_table.ipynb>data table notebook</a>'\n",
              "            + ' to learn more about interactive tables.';\n",
              "          element.innerHTML = '';\n",
              "          dataTable['output_type'] = 'display_data';\n",
              "          await google.colab.output.renderOutput(dataTable, element);\n",
              "          const docLink = document.createElement('div');\n",
              "          docLink.innerHTML = docLinkHtml;\n",
              "          element.appendChild(docLink);\n",
              "        }\n",
              "      </script>\n",
              "    </div>\n",
              "  </div>\n",
              "  "
            ],
            "text/plain": [
              "   X401_SEXO  X406_EDAD_AÑOS  X408_PESO_NETO_ENTERO  X410_TALLA_ENTERO  \\\n",
              "0          0              59                     79                165   \n",
              "1          0              22                     71                182   \n",
              "2          0              30                     56                155   \n",
              "3          1              27                     82                156   \n",
              "4          0              34                     54                163   \n",
              "\n",
              "   X701_ACTIVIDAD_FISICA_VIGOROSA_DIAS  X703_ACTIVIDAD_FISICA_MODERADA_DIAS  \\\n",
              "0                                    1                                    7   \n",
              "1                                    9                                    3   \n",
              "2                                    9                                    1   \n",
              "3                                    9                                    9   \n",
              "4                                    7                                    7   \n",
              "\n",
              "   X705_CAMINAR_DIAS  X721_FRECUENCIA_CONSUMO_ALCOHOL  \\\n",
              "0                  7                                4   \n",
              "1                  7                                4   \n",
              "2                  7                                4   \n",
              "3                  7                                5   \n",
              "4                  6                                5   \n",
              "\n",
              "   X731_DIAS_CONSUME_ALIMENTOS_PROCESADOS  \\\n",
              "0                                       1   \n",
              "1                                       3   \n",
              "2                                       0   \n",
              "3                                       2   \n",
              "4                                       3   \n",
              "\n",
              "   X732_DIAS_CONSUME_ALIMENTOS_CHATARRA  X733_DIAS_AGREGA_SAL  \\\n",
              "0                                     0                     0   \n",
              "1                                     2                     0   \n",
              "2                                     0                     0   \n",
              "3                                     1                     0   \n",
              "4                                     1                     0   \n",
              "\n",
              "   FRECUENCIA_FRUTA  FRECUENCIA_VERDURA  IMCesperado  \n",
              "0                 3                   3            1  \n",
              "1                 1                   2            0  \n",
              "2                 1                   1            0  \n",
              "3                 1                   1            1  \n",
              "4                 1                   1            0  "
            ]
          },
          "execution_count": 43,
          "metadata": {},
          "output_type": "execute_result"
        }
      ],
      "source": [
        "df.head()"
      ]
    },
    {
      "cell_type": "markdown",
      "metadata": {
        "id": "sL8Z4awfLHuY"
      },
      "source": [
        "#Nuevo DataFrame"
      ]
    },
    {
      "cell_type": "code",
      "execution_count": 44,
      "metadata": {
        "id": "pUpo3gYtcn-l"
      },
      "outputs": [],
      "source": [
        "df.to_csv('dataclean.csv', index=False, na_rep='NaN')"
      ]
    },
    {
      "cell_type": "code",
      "execution_count": 45,
      "metadata": {
        "id": "e5LMZm3YLOkV"
      },
      "outputs": [],
      "source": [
        "df_clean=pd.read_csv('dataclean.csv')"
      ]
    },
    {
      "cell_type": "code",
      "execution_count": 46,
      "metadata": {
        "colab": {
          "base_uri": "https://localhost:8080/",
          "height": 270
        },
        "id": "0vmxVjSoLVH7",
        "outputId": "08ad918d-64eb-4041-8115-87521bc2b936"
      },
      "outputs": [
        {
          "data": {
            "text/html": [
              "\n",
              "  <div id=\"df-5c2c122b-7078-476b-93e8-b5983aa948aa\">\n",
              "    <div class=\"colab-df-container\">\n",
              "      <div>\n",
              "<style scoped>\n",
              "    .dataframe tbody tr th:only-of-type {\n",
              "        vertical-align: middle;\n",
              "    }\n",
              "\n",
              "    .dataframe tbody tr th {\n",
              "        vertical-align: top;\n",
              "    }\n",
              "\n",
              "    .dataframe thead th {\n",
              "        text-align: right;\n",
              "    }\n",
              "</style>\n",
              "<table border=\"1\" class=\"dataframe\">\n",
              "  <thead>\n",
              "    <tr style=\"text-align: right;\">\n",
              "      <th></th>\n",
              "      <th>X401_SEXO</th>\n",
              "      <th>X406_EDAD_AÑOS</th>\n",
              "      <th>X408_PESO_NETO_ENTERO</th>\n",
              "      <th>X410_TALLA_ENTERO</th>\n",
              "      <th>X701_ACTIVIDAD_FISICA_VIGOROSA_DIAS</th>\n",
              "      <th>X703_ACTIVIDAD_FISICA_MODERADA_DIAS</th>\n",
              "      <th>X705_CAMINAR_DIAS</th>\n",
              "      <th>X721_FRECUENCIA_CONSUMO_ALCOHOL</th>\n",
              "      <th>X731_DIAS_CONSUME_ALIMENTOS_PROCESADOS</th>\n",
              "      <th>X732_DIAS_CONSUME_ALIMENTOS_CHATARRA</th>\n",
              "      <th>X733_DIAS_AGREGA_SAL</th>\n",
              "      <th>FRECUENCIA_FRUTA</th>\n",
              "      <th>FRECUENCIA_VERDURA</th>\n",
              "      <th>IMCesperado</th>\n",
              "    </tr>\n",
              "  </thead>\n",
              "  <tbody>\n",
              "    <tr>\n",
              "      <th>0</th>\n",
              "      <td>0</td>\n",
              "      <td>59</td>\n",
              "      <td>79</td>\n",
              "      <td>165</td>\n",
              "      <td>1</td>\n",
              "      <td>7</td>\n",
              "      <td>7</td>\n",
              "      <td>4</td>\n",
              "      <td>1</td>\n",
              "      <td>0</td>\n",
              "      <td>0</td>\n",
              "      <td>3</td>\n",
              "      <td>3</td>\n",
              "      <td>1</td>\n",
              "    </tr>\n",
              "    <tr>\n",
              "      <th>1</th>\n",
              "      <td>0</td>\n",
              "      <td>22</td>\n",
              "      <td>71</td>\n",
              "      <td>182</td>\n",
              "      <td>9</td>\n",
              "      <td>3</td>\n",
              "      <td>7</td>\n",
              "      <td>4</td>\n",
              "      <td>3</td>\n",
              "      <td>2</td>\n",
              "      <td>0</td>\n",
              "      <td>1</td>\n",
              "      <td>2</td>\n",
              "      <td>0</td>\n",
              "    </tr>\n",
              "    <tr>\n",
              "      <th>2</th>\n",
              "      <td>0</td>\n",
              "      <td>30</td>\n",
              "      <td>56</td>\n",
              "      <td>155</td>\n",
              "      <td>9</td>\n",
              "      <td>1</td>\n",
              "      <td>7</td>\n",
              "      <td>4</td>\n",
              "      <td>0</td>\n",
              "      <td>0</td>\n",
              "      <td>0</td>\n",
              "      <td>1</td>\n",
              "      <td>1</td>\n",
              "      <td>0</td>\n",
              "    </tr>\n",
              "    <tr>\n",
              "      <th>3</th>\n",
              "      <td>1</td>\n",
              "      <td>27</td>\n",
              "      <td>82</td>\n",
              "      <td>156</td>\n",
              "      <td>9</td>\n",
              "      <td>9</td>\n",
              "      <td>7</td>\n",
              "      <td>5</td>\n",
              "      <td>2</td>\n",
              "      <td>1</td>\n",
              "      <td>0</td>\n",
              "      <td>1</td>\n",
              "      <td>1</td>\n",
              "      <td>1</td>\n",
              "    </tr>\n",
              "    <tr>\n",
              "      <th>4</th>\n",
              "      <td>0</td>\n",
              "      <td>34</td>\n",
              "      <td>54</td>\n",
              "      <td>163</td>\n",
              "      <td>7</td>\n",
              "      <td>7</td>\n",
              "      <td>6</td>\n",
              "      <td>5</td>\n",
              "      <td>3</td>\n",
              "      <td>1</td>\n",
              "      <td>0</td>\n",
              "      <td>1</td>\n",
              "      <td>1</td>\n",
              "      <td>0</td>\n",
              "    </tr>\n",
              "  </tbody>\n",
              "</table>\n",
              "</div>\n",
              "      <button class=\"colab-df-convert\" onclick=\"convertToInteractive('df-5c2c122b-7078-476b-93e8-b5983aa948aa')\"\n",
              "              title=\"Convert this dataframe to an interactive table.\"\n",
              "              style=\"display:none;\">\n",
              "        \n",
              "  <svg xmlns=\"http://www.w3.org/2000/svg\" height=\"24px\"viewBox=\"0 0 24 24\"\n",
              "       width=\"24px\">\n",
              "    <path d=\"M0 0h24v24H0V0z\" fill=\"none\"/>\n",
              "    <path d=\"M18.56 5.44l.94 2.06.94-2.06 2.06-.94-2.06-.94-.94-2.06-.94 2.06-2.06.94zm-11 1L8.5 8.5l.94-2.06 2.06-.94-2.06-.94L8.5 2.5l-.94 2.06-2.06.94zm10 10l.94 2.06.94-2.06 2.06-.94-2.06-.94-.94-2.06-.94 2.06-2.06.94z\"/><path d=\"M17.41 7.96l-1.37-1.37c-.4-.4-.92-.59-1.43-.59-.52 0-1.04.2-1.43.59L10.3 9.45l-7.72 7.72c-.78.78-.78 2.05 0 2.83L4 21.41c.39.39.9.59 1.41.59.51 0 1.02-.2 1.41-.59l7.78-7.78 2.81-2.81c.8-.78.8-2.07 0-2.86zM5.41 20L4 18.59l7.72-7.72 1.47 1.35L5.41 20z\"/>\n",
              "  </svg>\n",
              "      </button>\n",
              "      \n",
              "  <style>\n",
              "    .colab-df-container {\n",
              "      display:flex;\n",
              "      flex-wrap:wrap;\n",
              "      gap: 12px;\n",
              "    }\n",
              "\n",
              "    .colab-df-convert {\n",
              "      background-color: #E8F0FE;\n",
              "      border: none;\n",
              "      border-radius: 50%;\n",
              "      cursor: pointer;\n",
              "      display: none;\n",
              "      fill: #1967D2;\n",
              "      height: 32px;\n",
              "      padding: 0 0 0 0;\n",
              "      width: 32px;\n",
              "    }\n",
              "\n",
              "    .colab-df-convert:hover {\n",
              "      background-color: #E2EBFA;\n",
              "      box-shadow: 0px 1px 2px rgba(60, 64, 67, 0.3), 0px 1px 3px 1px rgba(60, 64, 67, 0.15);\n",
              "      fill: #174EA6;\n",
              "    }\n",
              "\n",
              "    [theme=dark] .colab-df-convert {\n",
              "      background-color: #3B4455;\n",
              "      fill: #D2E3FC;\n",
              "    }\n",
              "\n",
              "    [theme=dark] .colab-df-convert:hover {\n",
              "      background-color: #434B5C;\n",
              "      box-shadow: 0px 1px 3px 1px rgba(0, 0, 0, 0.15);\n",
              "      filter: drop-shadow(0px 1px 2px rgba(0, 0, 0, 0.3));\n",
              "      fill: #FFFFFF;\n",
              "    }\n",
              "  </style>\n",
              "\n",
              "      <script>\n",
              "        const buttonEl =\n",
              "          document.querySelector('#df-5c2c122b-7078-476b-93e8-b5983aa948aa button.colab-df-convert');\n",
              "        buttonEl.style.display =\n",
              "          google.colab.kernel.accessAllowed ? 'block' : 'none';\n",
              "\n",
              "        async function convertToInteractive(key) {\n",
              "          const element = document.querySelector('#df-5c2c122b-7078-476b-93e8-b5983aa948aa');\n",
              "          const dataTable =\n",
              "            await google.colab.kernel.invokeFunction('convertToInteractive',\n",
              "                                                     [key], {});\n",
              "          if (!dataTable) return;\n",
              "\n",
              "          const docLinkHtml = 'Like what you see? Visit the ' +\n",
              "            '<a target=\"_blank\" href=https://colab.research.google.com/notebooks/data_table.ipynb>data table notebook</a>'\n",
              "            + ' to learn more about interactive tables.';\n",
              "          element.innerHTML = '';\n",
              "          dataTable['output_type'] = 'display_data';\n",
              "          await google.colab.output.renderOutput(dataTable, element);\n",
              "          const docLink = document.createElement('div');\n",
              "          docLink.innerHTML = docLinkHtml;\n",
              "          element.appendChild(docLink);\n",
              "        }\n",
              "      </script>\n",
              "    </div>\n",
              "  </div>\n",
              "  "
            ],
            "text/plain": [
              "   X401_SEXO  X406_EDAD_AÑOS  X408_PESO_NETO_ENTERO  X410_TALLA_ENTERO  \\\n",
              "0          0              59                     79                165   \n",
              "1          0              22                     71                182   \n",
              "2          0              30                     56                155   \n",
              "3          1              27                     82                156   \n",
              "4          0              34                     54                163   \n",
              "\n",
              "   X701_ACTIVIDAD_FISICA_VIGOROSA_DIAS  X703_ACTIVIDAD_FISICA_MODERADA_DIAS  \\\n",
              "0                                    1                                    7   \n",
              "1                                    9                                    3   \n",
              "2                                    9                                    1   \n",
              "3                                    9                                    9   \n",
              "4                                    7                                    7   \n",
              "\n",
              "   X705_CAMINAR_DIAS  X721_FRECUENCIA_CONSUMO_ALCOHOL  \\\n",
              "0                  7                                4   \n",
              "1                  7                                4   \n",
              "2                  7                                4   \n",
              "3                  7                                5   \n",
              "4                  6                                5   \n",
              "\n",
              "   X731_DIAS_CONSUME_ALIMENTOS_PROCESADOS  \\\n",
              "0                                       1   \n",
              "1                                       3   \n",
              "2                                       0   \n",
              "3                                       2   \n",
              "4                                       3   \n",
              "\n",
              "   X732_DIAS_CONSUME_ALIMENTOS_CHATARRA  X733_DIAS_AGREGA_SAL  \\\n",
              "0                                     0                     0   \n",
              "1                                     2                     0   \n",
              "2                                     0                     0   \n",
              "3                                     1                     0   \n",
              "4                                     1                     0   \n",
              "\n",
              "   FRECUENCIA_FRUTA  FRECUENCIA_VERDURA  IMCesperado  \n",
              "0                 3                   3            1  \n",
              "1                 1                   2            0  \n",
              "2                 1                   1            0  \n",
              "3                 1                   1            1  \n",
              "4                 1                   1            0  "
            ]
          },
          "execution_count": 46,
          "metadata": {},
          "output_type": "execute_result"
        }
      ],
      "source": [
        "df_clean.head()"
      ]
    },
    {
      "cell_type": "code",
      "execution_count": 47,
      "metadata": {
        "colab": {
          "base_uri": "https://localhost:8080/"
        },
        "id": "iPK49VQNL6np",
        "outputId": "c1566e0c-a1eb-43e8-f641-5d790f8b9012"
      },
      "outputs": [
        {
          "name": "stdout",
          "output_type": "stream",
          "text": [
            "<class 'pandas.core.frame.DataFrame'>\n",
            "RangeIndex: 1083 entries, 0 to 1082\n",
            "Data columns (total 14 columns):\n",
            " #   Column                                  Non-Null Count  Dtype\n",
            "---  ------                                  --------------  -----\n",
            " 0   X401_SEXO                               1083 non-null   int64\n",
            " 1   X406_EDAD_AÑOS                          1083 non-null   int64\n",
            " 2   X408_PESO_NETO_ENTERO                   1083 non-null   int64\n",
            " 3   X410_TALLA_ENTERO                       1083 non-null   int64\n",
            " 4   X701_ACTIVIDAD_FISICA_VIGOROSA_DIAS     1083 non-null   int64\n",
            " 5   X703_ACTIVIDAD_FISICA_MODERADA_DIAS     1083 non-null   int64\n",
            " 6   X705_CAMINAR_DIAS                       1083 non-null   int64\n",
            " 7   X721_FRECUENCIA_CONSUMO_ALCOHOL         1083 non-null   int64\n",
            " 8   X731_DIAS_CONSUME_ALIMENTOS_PROCESADOS  1083 non-null   int64\n",
            " 9   X732_DIAS_CONSUME_ALIMENTOS_CHATARRA    1083 non-null   int64\n",
            " 10  X733_DIAS_AGREGA_SAL                    1083 non-null   int64\n",
            " 11  FRECUENCIA_FRUTA                        1083 non-null   int64\n",
            " 12  FRECUENCIA_VERDURA                      1083 non-null   int64\n",
            " 13  IMCesperado                             1083 non-null   int64\n",
            "dtypes: int64(14)\n",
            "memory usage: 118.6 KB\n"
          ]
        }
      ],
      "source": [
        "df_clean.info()"
      ]
    },
    {
      "cell_type": "markdown",
      "metadata": {
        "id": "iWehkqGdFyQe"
      },
      "source": [
        "#Modelado"
      ]
    },
    {
      "cell_type": "markdown",
      "metadata": {
        "id": "wuOOX4HgCvOa"
      },
      "source": [
        "##Data"
      ]
    },
    {
      "cell_type": "markdown",
      "metadata": {
        "id": "aye9pcxK4pRf"
      },
      "source": [
        "Se separa la data de entrenamiento y testing en un 80 - 20%"
      ]
    },
    {
      "cell_type": "code",
      "execution_count": 48,
      "metadata": {
        "id": "uw2rfgaFmtqR"
      },
      "outputs": [],
      "source": [
        "train_df = df_clean.sample(frac = 0.8, random_state = 0)\n",
        "test_df = df_clean.drop(train_df.index)"
      ]
    },
    {
      "cell_type": "markdown",
      "metadata": {
        "id": "TUu_7AyZWp3u"
      },
      "source": [
        "Se analiza la información de los conjuntos de datos de entrenamiento y prueba"
      ]
    },
    {
      "cell_type": "code",
      "execution_count": 49,
      "metadata": {
        "colab": {
          "base_uri": "https://localhost:8080/"
        },
        "id": "3jSaQc5qWvSx",
        "outputId": "24581ec4-320b-44d9-acb9-f0762d8c2564"
      },
      "outputs": [
        {
          "name": "stdout",
          "output_type": "stream",
          "text": [
            "<class 'pandas.core.frame.DataFrame'>\n",
            "Int64Index: 866 entries, 204 to 166\n",
            "Data columns (total 14 columns):\n",
            " #   Column                                  Non-Null Count  Dtype\n",
            "---  ------                                  --------------  -----\n",
            " 0   X401_SEXO                               866 non-null    int64\n",
            " 1   X406_EDAD_AÑOS                          866 non-null    int64\n",
            " 2   X408_PESO_NETO_ENTERO                   866 non-null    int64\n",
            " 3   X410_TALLA_ENTERO                       866 non-null    int64\n",
            " 4   X701_ACTIVIDAD_FISICA_VIGOROSA_DIAS     866 non-null    int64\n",
            " 5   X703_ACTIVIDAD_FISICA_MODERADA_DIAS     866 non-null    int64\n",
            " 6   X705_CAMINAR_DIAS                       866 non-null    int64\n",
            " 7   X721_FRECUENCIA_CONSUMO_ALCOHOL         866 non-null    int64\n",
            " 8   X731_DIAS_CONSUME_ALIMENTOS_PROCESADOS  866 non-null    int64\n",
            " 9   X732_DIAS_CONSUME_ALIMENTOS_CHATARRA    866 non-null    int64\n",
            " 10  X733_DIAS_AGREGA_SAL                    866 non-null    int64\n",
            " 11  FRECUENCIA_FRUTA                        866 non-null    int64\n",
            " 12  FRECUENCIA_VERDURA                      866 non-null    int64\n",
            " 13  IMCesperado                             866 non-null    int64\n",
            "dtypes: int64(14)\n",
            "memory usage: 101.5 KB\n",
            "________________________________________\n",
            "<class 'pandas.core.frame.DataFrame'>\n",
            "Int64Index: 217 entries, 11 to 1079\n",
            "Data columns (total 14 columns):\n",
            " #   Column                                  Non-Null Count  Dtype\n",
            "---  ------                                  --------------  -----\n",
            " 0   X401_SEXO                               217 non-null    int64\n",
            " 1   X406_EDAD_AÑOS                          217 non-null    int64\n",
            " 2   X408_PESO_NETO_ENTERO                   217 non-null    int64\n",
            " 3   X410_TALLA_ENTERO                       217 non-null    int64\n",
            " 4   X701_ACTIVIDAD_FISICA_VIGOROSA_DIAS     217 non-null    int64\n",
            " 5   X703_ACTIVIDAD_FISICA_MODERADA_DIAS     217 non-null    int64\n",
            " 6   X705_CAMINAR_DIAS                       217 non-null    int64\n",
            " 7   X721_FRECUENCIA_CONSUMO_ALCOHOL         217 non-null    int64\n",
            " 8   X731_DIAS_CONSUME_ALIMENTOS_PROCESADOS  217 non-null    int64\n",
            " 9   X732_DIAS_CONSUME_ALIMENTOS_CHATARRA    217 non-null    int64\n",
            " 10  X733_DIAS_AGREGA_SAL                    217 non-null    int64\n",
            " 11  FRECUENCIA_FRUTA                        217 non-null    int64\n",
            " 12  FRECUENCIA_VERDURA                      217 non-null    int64\n",
            " 13  IMCesperado                             217 non-null    int64\n",
            "dtypes: int64(14)\n",
            "memory usage: 25.4 KB\n"
          ]
        }
      ],
      "source": [
        "train_df.info()\n",
        "print('_'*40)\n",
        "test_df.info()"
      ]
    },
    {
      "cell_type": "code",
      "execution_count": 50,
      "metadata": {
        "colab": {
          "base_uri": "https://localhost:8080/",
          "height": 364
        },
        "id": "sJF6w63OXAPr",
        "outputId": "24328573-ca0a-40bb-d245-98b337834e22"
      },
      "outputs": [
        {
          "data": {
            "text/html": [
              "\n",
              "  <div id=\"df-7d9b459c-29f9-4067-a037-c113230bd2bd\">\n",
              "    <div class=\"colab-df-container\">\n",
              "      <div>\n",
              "<style scoped>\n",
              "    .dataframe tbody tr th:only-of-type {\n",
              "        vertical-align: middle;\n",
              "    }\n",
              "\n",
              "    .dataframe tbody tr th {\n",
              "        vertical-align: top;\n",
              "    }\n",
              "\n",
              "    .dataframe thead th {\n",
              "        text-align: right;\n",
              "    }\n",
              "</style>\n",
              "<table border=\"1\" class=\"dataframe\">\n",
              "  <thead>\n",
              "    <tr style=\"text-align: right;\">\n",
              "      <th></th>\n",
              "      <th>X401_SEXO</th>\n",
              "      <th>X406_EDAD_AÑOS</th>\n",
              "      <th>X408_PESO_NETO_ENTERO</th>\n",
              "      <th>X410_TALLA_ENTERO</th>\n",
              "      <th>X701_ACTIVIDAD_FISICA_VIGOROSA_DIAS</th>\n",
              "      <th>X703_ACTIVIDAD_FISICA_MODERADA_DIAS</th>\n",
              "      <th>X705_CAMINAR_DIAS</th>\n",
              "      <th>X721_FRECUENCIA_CONSUMO_ALCOHOL</th>\n",
              "      <th>X731_DIAS_CONSUME_ALIMENTOS_PROCESADOS</th>\n",
              "      <th>X732_DIAS_CONSUME_ALIMENTOS_CHATARRA</th>\n",
              "      <th>X733_DIAS_AGREGA_SAL</th>\n",
              "      <th>FRECUENCIA_FRUTA</th>\n",
              "      <th>FRECUENCIA_VERDURA</th>\n",
              "      <th>IMCesperado</th>\n",
              "    </tr>\n",
              "  </thead>\n",
              "  <tbody>\n",
              "    <tr>\n",
              "      <th>count</th>\n",
              "      <td>866.000000</td>\n",
              "      <td>866.000000</td>\n",
              "      <td>866.000000</td>\n",
              "      <td>866.000000</td>\n",
              "      <td>866.000000</td>\n",
              "      <td>866.000000</td>\n",
              "      <td>866.000000</td>\n",
              "      <td>866.000000</td>\n",
              "      <td>866.000000</td>\n",
              "      <td>866.000000</td>\n",
              "      <td>866.000000</td>\n",
              "      <td>866.000000</td>\n",
              "      <td>866.000000</td>\n",
              "      <td>866.000000</td>\n",
              "    </tr>\n",
              "    <tr>\n",
              "      <th>mean</th>\n",
              "      <td>0.565820</td>\n",
              "      <td>38.317552</td>\n",
              "      <td>66.884527</td>\n",
              "      <td>157.347575</td>\n",
              "      <td>7.189376</td>\n",
              "      <td>5.557737</td>\n",
              "      <td>5.397229</td>\n",
              "      <td>4.465358</td>\n",
              "      <td>1.233256</td>\n",
              "      <td>1.627021</td>\n",
              "      <td>0.412240</td>\n",
              "      <td>1.636259</td>\n",
              "      <td>1.299076</td>\n",
              "      <td>0.275982</td>\n",
              "    </tr>\n",
              "    <tr>\n",
              "      <th>std</th>\n",
              "      <td>0.495935</td>\n",
              "      <td>11.671599</td>\n",
              "      <td>14.121621</td>\n",
              "      <td>8.980543</td>\n",
              "      <td>2.919922</td>\n",
              "      <td>2.869334</td>\n",
              "      <td>2.422284</td>\n",
              "      <td>0.601982</td>\n",
              "      <td>1.434860</td>\n",
              "      <td>1.865577</td>\n",
              "      <td>1.273941</td>\n",
              "      <td>0.901137</td>\n",
              "      <td>0.849032</td>\n",
              "      <td>0.447266</td>\n",
              "    </tr>\n",
              "    <tr>\n",
              "      <th>min</th>\n",
              "      <td>0.000000</td>\n",
              "      <td>18.000000</td>\n",
              "      <td>33.000000</td>\n",
              "      <td>132.000000</td>\n",
              "      <td>1.000000</td>\n",
              "      <td>1.000000</td>\n",
              "      <td>1.000000</td>\n",
              "      <td>1.000000</td>\n",
              "      <td>0.000000</td>\n",
              "      <td>0.000000</td>\n",
              "      <td>0.000000</td>\n",
              "      <td>0.000000</td>\n",
              "      <td>0.000000</td>\n",
              "      <td>0.000000</td>\n",
              "    </tr>\n",
              "    <tr>\n",
              "      <th>25%</th>\n",
              "      <td>0.000000</td>\n",
              "      <td>28.250000</td>\n",
              "      <td>57.000000</td>\n",
              "      <td>151.000000</td>\n",
              "      <td>6.000000</td>\n",
              "      <td>3.000000</td>\n",
              "      <td>3.000000</td>\n",
              "      <td>4.000000</td>\n",
              "      <td>0.000000</td>\n",
              "      <td>0.000000</td>\n",
              "      <td>0.000000</td>\n",
              "      <td>1.000000</td>\n",
              "      <td>1.000000</td>\n",
              "      <td>0.000000</td>\n",
              "    </tr>\n",
              "    <tr>\n",
              "      <th>50%</th>\n",
              "      <td>1.000000</td>\n",
              "      <td>38.000000</td>\n",
              "      <td>64.000000</td>\n",
              "      <td>157.000000</td>\n",
              "      <td>9.000000</td>\n",
              "      <td>6.000000</td>\n",
              "      <td>6.000000</td>\n",
              "      <td>5.000000</td>\n",
              "      <td>1.000000</td>\n",
              "      <td>1.000000</td>\n",
              "      <td>0.000000</td>\n",
              "      <td>1.000000</td>\n",
              "      <td>1.000000</td>\n",
              "      <td>0.000000</td>\n",
              "    </tr>\n",
              "    <tr>\n",
              "      <th>75%</th>\n",
              "      <td>1.000000</td>\n",
              "      <td>48.000000</td>\n",
              "      <td>74.000000</td>\n",
              "      <td>164.000000</td>\n",
              "      <td>9.000000</td>\n",
              "      <td>9.000000</td>\n",
              "      <td>7.000000</td>\n",
              "      <td>5.000000</td>\n",
              "      <td>2.000000</td>\n",
              "      <td>2.000000</td>\n",
              "      <td>0.000000</td>\n",
              "      <td>2.000000</td>\n",
              "      <td>2.000000</td>\n",
              "      <td>1.000000</td>\n",
              "    </tr>\n",
              "    <tr>\n",
              "      <th>max</th>\n",
              "      <td>1.000000</td>\n",
              "      <td>59.000000</td>\n",
              "      <td>128.000000</td>\n",
              "      <td>186.000000</td>\n",
              "      <td>9.000000</td>\n",
              "      <td>9.000000</td>\n",
              "      <td>9.000000</td>\n",
              "      <td>5.000000</td>\n",
              "      <td>7.000000</td>\n",
              "      <td>7.000000</td>\n",
              "      <td>7.000000</td>\n",
              "      <td>3.000000</td>\n",
              "      <td>3.000000</td>\n",
              "      <td>1.000000</td>\n",
              "    </tr>\n",
              "  </tbody>\n",
              "</table>\n",
              "</div>\n",
              "      <button class=\"colab-df-convert\" onclick=\"convertToInteractive('df-7d9b459c-29f9-4067-a037-c113230bd2bd')\"\n",
              "              title=\"Convert this dataframe to an interactive table.\"\n",
              "              style=\"display:none;\">\n",
              "        \n",
              "  <svg xmlns=\"http://www.w3.org/2000/svg\" height=\"24px\"viewBox=\"0 0 24 24\"\n",
              "       width=\"24px\">\n",
              "    <path d=\"M0 0h24v24H0V0z\" fill=\"none\"/>\n",
              "    <path d=\"M18.56 5.44l.94 2.06.94-2.06 2.06-.94-2.06-.94-.94-2.06-.94 2.06-2.06.94zm-11 1L8.5 8.5l.94-2.06 2.06-.94-2.06-.94L8.5 2.5l-.94 2.06-2.06.94zm10 10l.94 2.06.94-2.06 2.06-.94-2.06-.94-.94-2.06-.94 2.06-2.06.94z\"/><path d=\"M17.41 7.96l-1.37-1.37c-.4-.4-.92-.59-1.43-.59-.52 0-1.04.2-1.43.59L10.3 9.45l-7.72 7.72c-.78.78-.78 2.05 0 2.83L4 21.41c.39.39.9.59 1.41.59.51 0 1.02-.2 1.41-.59l7.78-7.78 2.81-2.81c.8-.78.8-2.07 0-2.86zM5.41 20L4 18.59l7.72-7.72 1.47 1.35L5.41 20z\"/>\n",
              "  </svg>\n",
              "      </button>\n",
              "      \n",
              "  <style>\n",
              "    .colab-df-container {\n",
              "      display:flex;\n",
              "      flex-wrap:wrap;\n",
              "      gap: 12px;\n",
              "    }\n",
              "\n",
              "    .colab-df-convert {\n",
              "      background-color: #E8F0FE;\n",
              "      border: none;\n",
              "      border-radius: 50%;\n",
              "      cursor: pointer;\n",
              "      display: none;\n",
              "      fill: #1967D2;\n",
              "      height: 32px;\n",
              "      padding: 0 0 0 0;\n",
              "      width: 32px;\n",
              "    }\n",
              "\n",
              "    .colab-df-convert:hover {\n",
              "      background-color: #E2EBFA;\n",
              "      box-shadow: 0px 1px 2px rgba(60, 64, 67, 0.3), 0px 1px 3px 1px rgba(60, 64, 67, 0.15);\n",
              "      fill: #174EA6;\n",
              "    }\n",
              "\n",
              "    [theme=dark] .colab-df-convert {\n",
              "      background-color: #3B4455;\n",
              "      fill: #D2E3FC;\n",
              "    }\n",
              "\n",
              "    [theme=dark] .colab-df-convert:hover {\n",
              "      background-color: #434B5C;\n",
              "      box-shadow: 0px 1px 3px 1px rgba(0, 0, 0, 0.15);\n",
              "      filter: drop-shadow(0px 1px 2px rgba(0, 0, 0, 0.3));\n",
              "      fill: #FFFFFF;\n",
              "    }\n",
              "  </style>\n",
              "\n",
              "      <script>\n",
              "        const buttonEl =\n",
              "          document.querySelector('#df-7d9b459c-29f9-4067-a037-c113230bd2bd button.colab-df-convert');\n",
              "        buttonEl.style.display =\n",
              "          google.colab.kernel.accessAllowed ? 'block' : 'none';\n",
              "\n",
              "        async function convertToInteractive(key) {\n",
              "          const element = document.querySelector('#df-7d9b459c-29f9-4067-a037-c113230bd2bd');\n",
              "          const dataTable =\n",
              "            await google.colab.kernel.invokeFunction('convertToInteractive',\n",
              "                                                     [key], {});\n",
              "          if (!dataTable) return;\n",
              "\n",
              "          const docLinkHtml = 'Like what you see? Visit the ' +\n",
              "            '<a target=\"_blank\" href=https://colab.research.google.com/notebooks/data_table.ipynb>data table notebook</a>'\n",
              "            + ' to learn more about interactive tables.';\n",
              "          element.innerHTML = '';\n",
              "          dataTable['output_type'] = 'display_data';\n",
              "          await google.colab.output.renderOutput(dataTable, element);\n",
              "          const docLink = document.createElement('div');\n",
              "          docLink.innerHTML = docLinkHtml;\n",
              "          element.appendChild(docLink);\n",
              "        }\n",
              "      </script>\n",
              "    </div>\n",
              "  </div>\n",
              "  "
            ],
            "text/plain": [
              "        X401_SEXO  X406_EDAD_AÑOS  X408_PESO_NETO_ENTERO  X410_TALLA_ENTERO  \\\n",
              "count  866.000000      866.000000             866.000000         866.000000   \n",
              "mean     0.565820       38.317552              66.884527         157.347575   \n",
              "std      0.495935       11.671599              14.121621           8.980543   \n",
              "min      0.000000       18.000000              33.000000         132.000000   \n",
              "25%      0.000000       28.250000              57.000000         151.000000   \n",
              "50%      1.000000       38.000000              64.000000         157.000000   \n",
              "75%      1.000000       48.000000              74.000000         164.000000   \n",
              "max      1.000000       59.000000             128.000000         186.000000   \n",
              "\n",
              "       X701_ACTIVIDAD_FISICA_VIGOROSA_DIAS  \\\n",
              "count                           866.000000   \n",
              "mean                              7.189376   \n",
              "std                               2.919922   \n",
              "min                               1.000000   \n",
              "25%                               6.000000   \n",
              "50%                               9.000000   \n",
              "75%                               9.000000   \n",
              "max                               9.000000   \n",
              "\n",
              "       X703_ACTIVIDAD_FISICA_MODERADA_DIAS  X705_CAMINAR_DIAS  \\\n",
              "count                           866.000000         866.000000   \n",
              "mean                              5.557737           5.397229   \n",
              "std                               2.869334           2.422284   \n",
              "min                               1.000000           1.000000   \n",
              "25%                               3.000000           3.000000   \n",
              "50%                               6.000000           6.000000   \n",
              "75%                               9.000000           7.000000   \n",
              "max                               9.000000           9.000000   \n",
              "\n",
              "       X721_FRECUENCIA_CONSUMO_ALCOHOL  \\\n",
              "count                       866.000000   \n",
              "mean                          4.465358   \n",
              "std                           0.601982   \n",
              "min                           1.000000   \n",
              "25%                           4.000000   \n",
              "50%                           5.000000   \n",
              "75%                           5.000000   \n",
              "max                           5.000000   \n",
              "\n",
              "       X731_DIAS_CONSUME_ALIMENTOS_PROCESADOS  \\\n",
              "count                              866.000000   \n",
              "mean                                 1.233256   \n",
              "std                                  1.434860   \n",
              "min                                  0.000000   \n",
              "25%                                  0.000000   \n",
              "50%                                  1.000000   \n",
              "75%                                  2.000000   \n",
              "max                                  7.000000   \n",
              "\n",
              "       X732_DIAS_CONSUME_ALIMENTOS_CHATARRA  X733_DIAS_AGREGA_SAL  \\\n",
              "count                            866.000000            866.000000   \n",
              "mean                               1.627021              0.412240   \n",
              "std                                1.865577              1.273941   \n",
              "min                                0.000000              0.000000   \n",
              "25%                                0.000000              0.000000   \n",
              "50%                                1.000000              0.000000   \n",
              "75%                                2.000000              0.000000   \n",
              "max                                7.000000              7.000000   \n",
              "\n",
              "       FRECUENCIA_FRUTA  FRECUENCIA_VERDURA  IMCesperado  \n",
              "count        866.000000          866.000000   866.000000  \n",
              "mean           1.636259            1.299076     0.275982  \n",
              "std            0.901137            0.849032     0.447266  \n",
              "min            0.000000            0.000000     0.000000  \n",
              "25%            1.000000            1.000000     0.000000  \n",
              "50%            1.000000            1.000000     0.000000  \n",
              "75%            2.000000            2.000000     1.000000  \n",
              "max            3.000000            3.000000     1.000000  "
            ]
          },
          "execution_count": 50,
          "metadata": {},
          "output_type": "execute_result"
        }
      ],
      "source": [
        "train_df.describe()"
      ]
    },
    {
      "cell_type": "markdown",
      "metadata": {
        "id": "ma3pY7wn4vZW"
      },
      "source": [
        "Se extraen las etiquetas con las que se va a entrenar el modelo."
      ]
    },
    {
      "cell_type": "code",
      "execution_count": 51,
      "metadata": {
        "id": "fF8JZRMmqRVR"
      },
      "outputs": [],
      "source": [
        "train_labels = train_df.pop('IMCesperado')\n",
        "test_labels = test_df.pop('IMCesperado')"
      ]
    },
    {
      "cell_type": "markdown",
      "metadata": {
        "id": "uRTXqK5Z422K"
      },
      "source": [
        "##Estructura del modelo"
      ]
    },
    {
      "cell_type": "code",
      "execution_count": 52,
      "metadata": {
        "id": "19P9LjfJn5jI"
      },
      "outputs": [],
      "source": [
        "def build_model():\n",
        "  model = keras.Sequential([\n",
        "    layers.Dense(64, activation='relu', input_shape=[len(train_df.keys())]),\n",
        "    layers.Dense(64, activation='relu'),\n",
        "    layers.Dense(1,  activation='sigmoid')\n",
        "  ])\n",
        "\n",
        "  model.compile(optimizer='adam',\n",
        "                loss='binary_crossentropy',\n",
        "                metrics=['accuracy']\n",
        "                )\n",
        "  return model"
      ]
    },
    {
      "cell_type": "markdown",
      "metadata": {
        "id": "OuE2OA7B5GIv"
      },
      "source": [
        "Se almacena el modelo en una variable"
      ]
    },
    {
      "cell_type": "code",
      "execution_count": 53,
      "metadata": {
        "id": "2AzUD_WAocFR"
      },
      "outputs": [],
      "source": [
        "model = build_model()"
      ]
    },
    {
      "cell_type": "code",
      "execution_count": 54,
      "metadata": {
        "colab": {
          "base_uri": "https://localhost:8080/"
        },
        "id": "-pVTf_V4odih",
        "outputId": "1f8e119b-be86-4429-c663-887f733ce900"
      },
      "outputs": [
        {
          "name": "stdout",
          "output_type": "stream",
          "text": [
            "Model: \"sequential\"\n",
            "_________________________________________________________________\n",
            " Layer (type)                Output Shape              Param #   \n",
            "=================================================================\n",
            " dense (Dense)               (None, 64)                896       \n",
            "                                                                 \n",
            " dense_1 (Dense)             (None, 64)                4160      \n",
            "                                                                 \n",
            " dense_2 (Dense)             (None, 1)                 65        \n",
            "                                                                 \n",
            "=================================================================\n",
            "Total params: 5,121\n",
            "Trainable params: 5,121\n",
            "Non-trainable params: 0\n",
            "_________________________________________________________________\n"
          ]
        }
      ],
      "source": [
        "model.summary()"
      ]
    },
    {
      "cell_type": "markdown",
      "metadata": {
        "id": "b1FRWVRtFju0"
      },
      "source": [
        "##Entrenamiento y evaluación"
      ]
    },
    {
      "cell_type": "code",
      "execution_count": 55,
      "metadata": {
        "id": "8m5pt8EtqfKA"
      },
      "outputs": [],
      "source": [
        "BATCHSIZE = 100\n",
        "EPOCHS = 100\n",
        "num_train_df_examples = len(train_df)\n",
        "num_test_df_examples = len(test_df)"
      ]
    },
    {
      "cell_type": "markdown",
      "metadata": {
        "id": "l9MnJoVIFn9C"
      },
      "source": [
        "Entrenamiento del modelo junto con sus etiquetas"
      ]
    },
    {
      "cell_type": "code",
      "execution_count": 56,
      "metadata": {
        "colab": {
          "base_uri": "https://localhost:8080/"
        },
        "id": "IOg9LjpqouUg",
        "outputId": "da446d2d-2f29-476c-cbea-52b9516c4d0a"
      },
      "outputs": [
        {
          "data": {
            "text/plain": [
              "<keras.callbacks.History at 0x7f343cfec750>"
            ]
          },
          "execution_count": 56,
          "metadata": {},
          "output_type": "execute_result"
        }
      ],
      "source": [
        "model.fit(\n",
        "    train_df, train_labels,\n",
        "    epochs=EPOCHS, validation_split = 0.2, verbose=0\n",
        ")"
      ]
    },
    {
      "cell_type": "code",
      "execution_count": 57,
      "metadata": {
        "colab": {
          "base_uri": "https://localhost:8080/"
        },
        "id": "83A-OeY7zb5l",
        "outputId": "65a208f8-e2f2-473e-b6e7-7f2b43d20ba9"
      },
      "outputs": [
        {
          "data": {
            "text/plain": [
              "11      0\n",
              "19      0\n",
              "23      0\n",
              "25      0\n",
              "28      0\n",
              "       ..\n",
              "1062    0\n",
              "1063    0\n",
              "1070    1\n",
              "1073    0\n",
              "1079    0\n",
              "Name: IMCesperado, Length: 217, dtype: int64"
            ]
          },
          "execution_count": 57,
          "metadata": {},
          "output_type": "execute_result"
        }
      ],
      "source": [
        "test_labels"
      ]
    },
    {
      "cell_type": "markdown",
      "metadata": {
        "id": "fS2O9LaUFq7_"
      },
      "source": [
        "Evaluacion del porcentaje de perdida y precisión"
      ]
    },
    {
      "cell_type": "code",
      "execution_count": 58,
      "metadata": {
        "colab": {
          "base_uri": "https://localhost:8080/"
        },
        "id": "n0dd5WOLrZ84",
        "outputId": "ec937633-dc0d-4aca-f6a5-73839db9c951"
      },
      "outputs": [
        {
          "name": "stdout",
          "output_type": "stream",
          "text": [
            "7/7 - 0s - loss: 0.2210 - accuracy: 0.9171 - 79ms/epoch - 11ms/step\n",
            "Resultado en las pruebas:  0.9170507192611694\n"
          ]
        }
      ],
      "source": [
        "loss, accuracy = model.evaluate(\n",
        "    test_df, test_labels, verbose=2\n",
        ")\n",
        "\n",
        "print(\"Resultado en las pruebas: \", accuracy)"
      ]
    },
    {
      "cell_type": "code",
      "execution_count": 59,
      "metadata": {
        "colab": {
          "base_uri": "https://localhost:8080/"
        },
        "id": "byXSIrT9uj8p",
        "outputId": "b12356ab-4052-45fc-9cb2-54ab990d9838"
      },
      "outputs": [
        {
          "name": "stdout",
          "output_type": "stream",
          "text": [
            "7/7 [==============================] - 0s 3ms/step\n"
          ]
        }
      ],
      "source": [
        "predictions = model.predict(test_df)"
      ]
    },
    {
      "cell_type": "code",
      "execution_count": 60,
      "metadata": {
        "colab": {
          "base_uri": "https://localhost:8080/"
        },
        "id": "yonmkCbNygGF",
        "outputId": "b038db59-ef63-4991-90e3-c680150580d7"
      },
      "outputs": [
        {
          "data": {
            "text/plain": [
              "217"
            ]
          },
          "execution_count": 60,
          "metadata": {},
          "output_type": "execute_result"
        }
      ],
      "source": [
        "len(predictions)"
      ]
    },
    {
      "cell_type": "code",
      "execution_count": 61,
      "metadata": {
        "colab": {
          "base_uri": "https://localhost:8080/"
        },
        "id": "ihXruKst1Tfx",
        "outputId": "01f91ad8-359a-43bb-be0f-cdd49a3ef669"
      },
      "outputs": [
        {
          "name": "stdout",
          "output_type": "stream",
          "text": [
            "<class 'pandas.core.frame.DataFrame'>\n",
            "Int64Index: 217 entries, 11 to 1079\n",
            "Data columns (total 13 columns):\n",
            " #   Column                                  Non-Null Count  Dtype\n",
            "---  ------                                  --------------  -----\n",
            " 0   X401_SEXO                               217 non-null    int64\n",
            " 1   X406_EDAD_AÑOS                          217 non-null    int64\n",
            " 2   X408_PESO_NETO_ENTERO                   217 non-null    int64\n",
            " 3   X410_TALLA_ENTERO                       217 non-null    int64\n",
            " 4   X701_ACTIVIDAD_FISICA_VIGOROSA_DIAS     217 non-null    int64\n",
            " 5   X703_ACTIVIDAD_FISICA_MODERADA_DIAS     217 non-null    int64\n",
            " 6   X705_CAMINAR_DIAS                       217 non-null    int64\n",
            " 7   X721_FRECUENCIA_CONSUMO_ALCOHOL         217 non-null    int64\n",
            " 8   X731_DIAS_CONSUME_ALIMENTOS_PROCESADOS  217 non-null    int64\n",
            " 9   X732_DIAS_CONSUME_ALIMENTOS_CHATARRA    217 non-null    int64\n",
            " 10  X733_DIAS_AGREGA_SAL                    217 non-null    int64\n",
            " 11  FRECUENCIA_FRUTA                        217 non-null    int64\n",
            " 12  FRECUENCIA_VERDURA                      217 non-null    int64\n",
            "dtypes: int64(13)\n",
            "memory usage: 23.7 KB\n"
          ]
        }
      ],
      "source": [
        "test_df.info()"
      ]
    },
    {
      "cell_type": "markdown",
      "metadata": {
        "id": "sbT8KxntE1W6"
      },
      "source": [
        "##Testing"
      ]
    },
    {
      "cell_type": "markdown",
      "metadata": {
        "id": "YZub3HbA5Vfn"
      },
      "source": [
        "Se testea el modelo con un lote de 10 valores del dataset separado para el testing."
      ]
    },
    {
      "cell_type": "code",
      "execution_count": 62,
      "metadata": {
        "colab": {
          "base_uri": "https://localhost:8080/"
        },
        "id": "AKYq55YtogV9",
        "outputId": "c37aedf1-99bf-4d65-b741-b1985a08415f"
      },
      "outputs": [
        {
          "name": "stdout",
          "output_type": "stream",
          "text": [
            "1/1 [==============================] - 0s 44ms/step\n"
          ]
        },
        {
          "data": {
            "text/plain": [
              "array([[1.5495382e-07],\n",
              "       [1.9204811e-09],\n",
              "       [9.9999964e-01],\n",
              "       [1.0557153e-05],\n",
              "       [1.5117909e-07],\n",
              "       [1.4765572e-05],\n",
              "       [2.3324660e-04],\n",
              "       [6.6528887e-02],\n",
              "       [1.9068752e-07],\n",
              "       [1.8989785e-10]], dtype=float32)"
            ]
          },
          "execution_count": 62,
          "metadata": {},
          "output_type": "execute_result"
        }
      ],
      "source": [
        "example_batch = train_df[:10]\n",
        "example_result = model.predict(example_batch)\n",
        "example_result"
      ]
    },
    {
      "cell_type": "markdown",
      "metadata": {
        "id": "RZe2fUITGmEQ"
      },
      "source": [
        "##Pruebas de uso"
      ]
    },
    {
      "cell_type": "code",
      "execution_count": 63,
      "metadata": {
        "colab": {
          "base_uri": "https://localhost:8080/"
        },
        "id": "IhtX4_VRyO7v",
        "outputId": "89fc2f9b-2634-453a-9149-2aadf6495965"
      },
      "outputs": [
        {
          "data": {
            "text/plain": [
              "[array([[  0,  22,  75, 175,   7,   7,   7,   2,   5,   0,   0,   3,   3]]),\n",
              " array([[  1,  47,  65, 159,   6,   4,   7,   2,   2,   1,   2,   1,   1]]),\n",
              " array([[  1,  31,  53, 162,   5,   5,   6,   3,   3,   3,   3,   1,   2]]),\n",
              " array([[  0,  19,  78, 179,   6,   6,   7,   2,   3,   2,   2,   1,   2]]),\n",
              " array([[  1,  53,  86, 164,   2,   3,   4,   2,   6,   4,   4,   3,   3]]),\n",
              " 4]"
            ]
          },
          "execution_count": 63,
          "metadata": {},
          "output_type": "execute_result"
        }
      ],
      "source": [
        "test_size = 5\n",
        "predArr = [test_size]\n",
        "for i in range(test_size):\n",
        "  predArr.append(i)\n",
        "#el orden de la data es sexo, edad, peso, talla, cantidad de dias que hace actividad física vigorosa, cantidad de dias que hace actividad fisica moderada, cantidad de dias que realiza caminatas en dias,\n",
        "#frecuencia en la que consume de alcohol, cantidad de dias que consume alimentos procesados,cantidad de dias que consume comida chatarra, dias en los que agrega sal a sus comidas, frecuencia con la que consume fruta y\n",
        "#frecuencia con la que consume verduras\n",
        "\n",
        "predArr[0] = np.array([[0,\t22,\t75,\t175,\t7,\t7,\t7,\t2, 5,\t0, 0, 3, 3]])\n",
        "predArr[1] = np.array([[1,\t47,\t65,\t159,\t6,\t4,\t7,\t2, 2,\t1, 2, 1, 1]])\n",
        "predArr[2] = np.array([[1,\t31,\t53,\t162,\t5,\t5,\t6,\t3, 3,\t3, 3, 1, 2]])\n",
        "predArr[3] = np.array([[0,\t19,\t78,\t179,\t6,\t6,\t7,\t2, 3,\t2, 2, 1, 2]])\n",
        "predArr[4] = np.array([[1,\t53,\t86,\t164,\t2,\t3,\t4,\t2, 6,\t4, 4, 3, 3]])\n",
        "\n",
        "predArr"
      ]
    },
    {
      "cell_type": "code",
      "execution_count": 64,
      "metadata": {
        "id": "TII2ADaRyFWB"
      },
      "outputs": [],
      "source": [
        "def predFormat (x):\n",
        "  answer = round((x[0][0]*100), 4)\n",
        "  print(\"El individuo tiene una probabilidad del\", answer,\"% de tener sobrepeso en 3 meses.\" )"
      ]
    },
    {
      "cell_type": "code",
      "execution_count": 65,
      "metadata": {
        "colab": {
          "base_uri": "https://localhost:8080/"
        },
        "id": "yO6WNoUivvkk",
        "outputId": "b7e3eb6a-0401-46fa-e2c5-52422fb57f05"
      },
      "outputs": [
        {
          "name": "stdout",
          "output_type": "stream",
          "text": [
            "1/1 [==============================] - 0s 46ms/step\n",
            "El individuo tiene una probabilidad del 0.0019 % de tener sobrepeso en 3 meses.\n",
            "1/1 [==============================] - 0s 52ms/step\n",
            "El individuo tiene una probabilidad del 0.2215 % de tener sobrepeso en 3 meses.\n",
            "1/1 [==============================] - 0s 41ms/step\n",
            "El individuo tiene una probabilidad del 0.0 % de tener sobrepeso en 3 meses.\n",
            "1/1 [==============================] - 0s 38ms/step\n",
            "El individuo tiene una probabilidad del 0.0029 % de tener sobrepeso en 3 meses.\n",
            "1/1 [==============================] - 0s 40ms/step\n",
            "El individuo tiene una probabilidad del 99.9999 % de tener sobrepeso en 3 meses.\n"
          ]
        }
      ],
      "source": [
        "for i in range(test_size):\n",
        "  predFormat(model.predict(pd.DataFrame(predArr[i])))"
      ]
    },
    {
      "cell_type": "markdown",
      "metadata": {
        "id": "zADP5-DOg4nb"
      },
      "source": [
        "#EXPORTACION DEL MODELO"
      ]
    },
    {
      "cell_type": "code",
      "execution_count": 66,
      "metadata": {
        "id": "OYUWKJ-Qg4WT"
      },
      "outputs": [],
      "source": [
        "model.save('tf.h5')"
      ]
    },
    {
      "cell_type": "code",
      "execution_count": 67,
      "metadata": {
        "colab": {
          "base_uri": "https://localhost:8080/"
        },
        "id": "PcUraOJxwMlY",
        "outputId": "cc30d3fc-ce6c-426a-b624-e2024aef4622"
      },
      "outputs": [
        {
          "name": "stdout",
          "output_type": "stream",
          "text": [
            "database.csv  dataclean.csv  sample_data  tf.h5\n"
          ]
        }
      ],
      "source": [
        "!ls"
      ]
    },
    {
      "cell_type": "code",
      "execution_count": 68,
      "metadata": {
        "id": "qMB6f-Xehadl"
      },
      "outputs": [],
      "source": [
        "!mkdir carpeta_out"
      ]
    },
    {
      "cell_type": "code",
      "execution_count": 70,
      "metadata": {
        "colab": {
          "base_uri": "https://localhost:8080/",
          "height": 1000
        },
        "id": "teA13azdhi-A",
        "outputId": "2f7997b0-5ed6-48a3-fdff-2af9c4e4df27"
      },
      "outputs": [
        {
          "name": "stdout",
          "output_type": "stream",
          "text": [
            "Looking in indexes: https://pypi.org/simple, https://us-python.pkg.dev/colab-wheels/public/simple/\n",
            "Collecting tensorflowjs\n",
            "  Downloading tensorflowjs-4.0.0-py3-none-any.whl (83 kB)\n",
            "\u001b[K     |████████████████████████████████| 83 kB 1.3 MB/s \n",
            "\u001b[?25hRequirement already satisfied: tensorflow-hub<0.13,>=0.7.0 in /usr/local/lib/python3.7/dist-packages (from tensorflowjs) (0.12.0)\n",
            "Collecting tensorflow<3,>=2.10.0\n",
            "  Downloading tensorflow-2.10.0-cp37-cp37m-manylinux_2_17_x86_64.manylinux2014_x86_64.whl (578.0 MB)\n",
            "\u001b[K     |████████████████████████████████| 578.0 MB 9.6 kB/s \n",
            "\u001b[?25hRequirement already satisfied: protobuf<3.20,>=3.9.2 in /usr/local/lib/python3.7/dist-packages (from tensorflowjs) (3.17.3)\n",
            "Requirement already satisfied: importlib_resources>=5.9.0 in /usr/local/lib/python3.7/dist-packages (from tensorflowjs) (5.10.0)\n",
            "Collecting flax>=0.5.3\n",
            "  Downloading flax-0.6.1-py3-none-any.whl (185 kB)\n",
            "\u001b[K     |████████████████████████████████| 185 kB 51.6 MB/s \n",
            "\u001b[?25hCollecting tensorflow-decision-forests>=1.0.1\n",
            "  Downloading tensorflow_decision_forests-1.0.1-cp37-cp37m-manylinux_2_17_x86_64.manylinux2014_x86_64.whl (16.0 MB)\n",
            "\u001b[K     |████████████████████████████████| 16.0 MB 2.0 MB/s \n",
            "\u001b[?25hRequirement already satisfied: six<2,>=1.12.0 in /usr/local/lib/python3.7/dist-packages (from tensorflowjs) (1.15.0)\n",
            "Collecting packaging~=20.9\n",
            "  Downloading packaging-20.9-py2.py3-none-any.whl (40 kB)\n",
            "\u001b[K     |████████████████████████████████| 40 kB 4.3 MB/s \n",
            "\u001b[?25hRequirement already satisfied: jax>=0.3.16 in /usr/local/lib/python3.7/dist-packages (from tensorflowjs) (0.3.23)\n",
            "Requirement already satisfied: PyYAML>=5.4.1 in /usr/local/lib/python3.7/dist-packages (from flax>=0.5.3->tensorflowjs) (6.0)\n",
            "Requirement already satisfied: numpy>=1.12 in /usr/local/lib/python3.7/dist-packages (from flax>=0.5.3->tensorflowjs) (1.21.6)\n",
            "Requirement already satisfied: matplotlib in /usr/local/lib/python3.7/dist-packages (from flax>=0.5.3->tensorflowjs) (3.2.2)\n",
            "Collecting rich>=11.1\n",
            "  Downloading rich-12.6.0-py3-none-any.whl (237 kB)\n",
            "\u001b[K     |████████████████████████████████| 237 kB 34.1 MB/s \n",
            "\u001b[?25hRequirement already satisfied: msgpack in /usr/local/lib/python3.7/dist-packages (from flax>=0.5.3->tensorflowjs) (1.0.4)\n",
            "Collecting optax\n",
            "  Downloading optax-0.1.3-py3-none-any.whl (145 kB)\n",
            "\u001b[K     |████████████████████████████████| 145 kB 52.7 MB/s \n",
            "\u001b[?25hRequirement already satisfied: typing-extensions>=4.1.1 in /usr/local/lib/python3.7/dist-packages (from flax>=0.5.3->tensorflowjs) (4.1.1)\n",
            "Requirement already satisfied: zipp>=3.1.0 in /usr/local/lib/python3.7/dist-packages (from importlib_resources>=5.9.0->tensorflowjs) (3.10.0)\n",
            "Requirement already satisfied: opt-einsum in /usr/local/lib/python3.7/dist-packages (from jax>=0.3.16->tensorflowjs) (3.3.0)\n",
            "Requirement already satisfied: etils[epath] in /usr/local/lib/python3.7/dist-packages (from jax>=0.3.16->tensorflowjs) (0.8.0)\n",
            "Requirement already satisfied: scipy>=1.5 in /usr/local/lib/python3.7/dist-packages (from jax>=0.3.16->tensorflowjs) (1.7.3)\n",
            "Requirement already satisfied: absl-py in /usr/local/lib/python3.7/dist-packages (from jax>=0.3.16->tensorflowjs) (1.3.0)\n",
            "Requirement already satisfied: pyparsing>=2.0.2 in /usr/local/lib/python3.7/dist-packages (from packaging~=20.9->tensorflowjs) (3.0.9)\n",
            "Collecting commonmark<0.10.0,>=0.9.0\n",
            "  Downloading commonmark-0.9.1-py2.py3-none-any.whl (51 kB)\n",
            "\u001b[K     |████████████████████████████████| 51 kB 5.5 MB/s \n",
            "\u001b[?25hRequirement already satisfied: pygments<3.0.0,>=2.6.0 in /usr/local/lib/python3.7/dist-packages (from rich>=11.1->flax>=0.5.3->tensorflowjs) (2.6.1)\n",
            "Requirement already satisfied: astunparse>=1.6.0 in /usr/local/lib/python3.7/dist-packages (from tensorflow<3,>=2.10.0->tensorflowjs) (1.6.3)\n",
            "Requirement already satisfied: termcolor>=1.1.0 in /usr/local/lib/python3.7/dist-packages (from tensorflow<3,>=2.10.0->tensorflowjs) (2.0.1)\n",
            "Requirement already satisfied: tensorflow-io-gcs-filesystem>=0.23.1 in /usr/local/lib/python3.7/dist-packages (from tensorflow<3,>=2.10.0->tensorflowjs) (0.27.0)\n",
            "Collecting keras<2.11,>=2.10.0\n",
            "  Downloading keras-2.10.0-py2.py3-none-any.whl (1.7 MB)\n",
            "\u001b[K     |████████████████████████████████| 1.7 MB 29.4 MB/s \n",
            "\u001b[?25hRequirement already satisfied: keras-preprocessing>=1.1.1 in /usr/local/lib/python3.7/dist-packages (from tensorflow<3,>=2.10.0->tensorflowjs) (1.1.2)\n",
            "Requirement already satisfied: h5py>=2.9.0 in /usr/local/lib/python3.7/dist-packages (from tensorflow<3,>=2.10.0->tensorflowjs) (3.1.0)\n",
            "Collecting tensorboard<2.11,>=2.10\n",
            "  Downloading tensorboard-2.10.1-py3-none-any.whl (5.9 MB)\n",
            "\u001b[K     |████████████████████████████████| 5.9 MB 38.3 MB/s \n",
            "\u001b[?25hRequirement already satisfied: gast<=0.4.0,>=0.2.1 in /usr/local/lib/python3.7/dist-packages (from tensorflow<3,>=2.10.0->tensorflowjs) (0.4.0)\n",
            "Requirement already satisfied: grpcio<2.0,>=1.24.3 in /usr/local/lib/python3.7/dist-packages (from tensorflow<3,>=2.10.0->tensorflowjs) (1.50.0)\n",
            "Requirement already satisfied: wrapt>=1.11.0 in /usr/local/lib/python3.7/dist-packages (from tensorflow<3,>=2.10.0->tensorflowjs) (1.14.1)\n",
            "Requirement already satisfied: setuptools in /usr/local/lib/python3.7/dist-packages (from tensorflow<3,>=2.10.0->tensorflowjs) (57.4.0)\n",
            "Collecting flatbuffers>=2.0\n",
            "  Downloading flatbuffers-22.10.26-py2.py3-none-any.whl (26 kB)\n",
            "Requirement already satisfied: google-pasta>=0.1.1 in /usr/local/lib/python3.7/dist-packages (from tensorflow<3,>=2.10.0->tensorflowjs) (0.2.0)\n",
            "Requirement already satisfied: libclang>=13.0.0 in /usr/local/lib/python3.7/dist-packages (from tensorflow<3,>=2.10.0->tensorflowjs) (14.0.6)\n",
            "Collecting tensorflow-estimator<2.11,>=2.10.0\n",
            "  Downloading tensorflow_estimator-2.10.0-py2.py3-none-any.whl (438 kB)\n",
            "\u001b[K     |████████████████████████████████| 438 kB 43.0 MB/s \n",
            "\u001b[?25hRequirement already satisfied: wheel<1.0,>=0.23.0 in /usr/local/lib/python3.7/dist-packages (from astunparse>=1.6.0->tensorflow<3,>=2.10.0->tensorflowjs) (0.37.1)\n",
            "Requirement already satisfied: cached-property in /usr/local/lib/python3.7/dist-packages (from h5py>=2.9.0->tensorflow<3,>=2.10.0->tensorflowjs) (1.5.2)\n",
            "Requirement already satisfied: werkzeug>=1.0.1 in /usr/local/lib/python3.7/dist-packages (from tensorboard<2.11,>=2.10->tensorflow<3,>=2.10.0->tensorflowjs) (1.0.1)\n",
            "Requirement already satisfied: google-auth-oauthlib<0.5,>=0.4.1 in /usr/local/lib/python3.7/dist-packages (from tensorboard<2.11,>=2.10->tensorflow<3,>=2.10.0->tensorflowjs) (0.4.6)\n",
            "Requirement already satisfied: markdown>=2.6.8 in /usr/local/lib/python3.7/dist-packages (from tensorboard<2.11,>=2.10->tensorflow<3,>=2.10.0->tensorflowjs) (3.4.1)\n",
            "Requirement already satisfied: tensorboard-data-server<0.7.0,>=0.6.0 in /usr/local/lib/python3.7/dist-packages (from tensorboard<2.11,>=2.10->tensorflow<3,>=2.10.0->tensorflowjs) (0.6.1)\n",
            "Requirement already satisfied: google-auth<3,>=1.6.3 in /usr/local/lib/python3.7/dist-packages (from tensorboard<2.11,>=2.10->tensorflow<3,>=2.10.0->tensorflowjs) (1.35.0)\n",
            "Requirement already satisfied: tensorboard-plugin-wit>=1.6.0 in /usr/local/lib/python3.7/dist-packages (from tensorboard<2.11,>=2.10->tensorflow<3,>=2.10.0->tensorflowjs) (1.8.1)\n",
            "Requirement already satisfied: requests<3,>=2.21.0 in /usr/local/lib/python3.7/dist-packages (from tensorboard<2.11,>=2.10->tensorflow<3,>=2.10.0->tensorflowjs) (2.23.0)\n",
            "Requirement already satisfied: pyasn1-modules>=0.2.1 in /usr/local/lib/python3.7/dist-packages (from google-auth<3,>=1.6.3->tensorboard<2.11,>=2.10->tensorflow<3,>=2.10.0->tensorflowjs) (0.2.8)\n",
            "Requirement already satisfied: cachetools<5.0,>=2.0.0 in /usr/local/lib/python3.7/dist-packages (from google-auth<3,>=1.6.3->tensorboard<2.11,>=2.10->tensorflow<3,>=2.10.0->tensorflowjs) (4.2.4)\n",
            "Requirement already satisfied: rsa<5,>=3.1.4 in /usr/local/lib/python3.7/dist-packages (from google-auth<3,>=1.6.3->tensorboard<2.11,>=2.10->tensorflow<3,>=2.10.0->tensorflowjs) (4.9)\n",
            "Requirement already satisfied: requests-oauthlib>=0.7.0 in /usr/local/lib/python3.7/dist-packages (from google-auth-oauthlib<0.5,>=0.4.1->tensorboard<2.11,>=2.10->tensorflow<3,>=2.10.0->tensorflowjs) (1.3.1)\n",
            "Requirement already satisfied: importlib-metadata>=4.4 in /usr/local/lib/python3.7/dist-packages (from markdown>=2.6.8->tensorboard<2.11,>=2.10->tensorflow<3,>=2.10.0->tensorflowjs) (4.13.0)\n",
            "Requirement already satisfied: pyasn1<0.5.0,>=0.4.6 in /usr/local/lib/python3.7/dist-packages (from pyasn1-modules>=0.2.1->google-auth<3,>=1.6.3->tensorboard<2.11,>=2.10->tensorflow<3,>=2.10.0->tensorflowjs) (0.4.8)\n",
            "Requirement already satisfied: certifi>=2017.4.17 in /usr/local/lib/python3.7/dist-packages (from requests<3,>=2.21.0->tensorboard<2.11,>=2.10->tensorflow<3,>=2.10.0->tensorflowjs) (2022.9.24)\n",
            "Requirement already satisfied: chardet<4,>=3.0.2 in /usr/local/lib/python3.7/dist-packages (from requests<3,>=2.21.0->tensorboard<2.11,>=2.10->tensorflow<3,>=2.10.0->tensorflowjs) (3.0.4)\n",
            "Requirement already satisfied: urllib3!=1.25.0,!=1.25.1,<1.26,>=1.21.1 in /usr/local/lib/python3.7/dist-packages (from requests<3,>=2.21.0->tensorboard<2.11,>=2.10->tensorflow<3,>=2.10.0->tensorflowjs) (1.24.3)\n",
            "Requirement already satisfied: idna<3,>=2.5 in /usr/local/lib/python3.7/dist-packages (from requests<3,>=2.21.0->tensorboard<2.11,>=2.10->tensorflow<3,>=2.10.0->tensorflowjs) (2.10)\n",
            "Requirement already satisfied: oauthlib>=3.0.0 in /usr/local/lib/python3.7/dist-packages (from requests-oauthlib>=0.7.0->google-auth-oauthlib<0.5,>=0.4.1->tensorboard<2.11,>=2.10->tensorflow<3,>=2.10.0->tensorflowjs) (3.2.2)\n",
            "Collecting wurlitzer\n",
            "  Downloading wurlitzer-3.0.2-py3-none-any.whl (7.3 kB)\n",
            "Requirement already satisfied: pandas in /usr/local/lib/python3.7/dist-packages (from tensorflow-decision-forests>=1.0.1->tensorflowjs) (1.3.5)\n",
            "Requirement already satisfied: kiwisolver>=1.0.1 in /usr/local/lib/python3.7/dist-packages (from matplotlib->flax>=0.5.3->tensorflowjs) (1.4.4)\n",
            "Requirement already satisfied: cycler>=0.10 in /usr/local/lib/python3.7/dist-packages (from matplotlib->flax>=0.5.3->tensorflowjs) (0.11.0)\n",
            "Requirement already satisfied: python-dateutil>=2.1 in /usr/local/lib/python3.7/dist-packages (from matplotlib->flax>=0.5.3->tensorflowjs) (2.8.2)\n",
            "Requirement already satisfied: jaxlib>=0.1.37 in /usr/local/lib/python3.7/dist-packages (from optax->flax>=0.5.3->tensorflowjs) (0.3.22+cuda11.cudnn805)\n",
            "Collecting chex>=0.0.4\n",
            "  Downloading chex-0.1.5-py3-none-any.whl (85 kB)\n",
            "\u001b[K     |████████████████████████████████| 85 kB 3.3 MB/s \n",
            "\u001b[?25hRequirement already satisfied: toolz>=0.9.0 in /usr/local/lib/python3.7/dist-packages (from chex>=0.0.4->optax->flax>=0.5.3->tensorflowjs) (0.12.0)\n",
            "Requirement already satisfied: dm-tree>=0.1.5 in /usr/local/lib/python3.7/dist-packages (from chex>=0.0.4->optax->flax>=0.5.3->tensorflowjs) (0.1.7)\n",
            "Requirement already satisfied: pytz>=2017.3 in /usr/local/lib/python3.7/dist-packages (from pandas->tensorflow-decision-forests>=1.0.1->tensorflowjs) (2022.5)\n",
            "Installing collected packages: tensorflow-estimator, tensorboard, packaging, keras, flatbuffers, commonmark, chex, wurlitzer, tensorflow, rich, optax, tensorflow-decision-forests, flax, tensorflowjs\n",
            "  Attempting uninstall: tensorflow-estimator\n",
            "    Found existing installation: tensorflow-estimator 2.9.0\n",
            "    Uninstalling tensorflow-estimator-2.9.0:\n",
            "      Successfully uninstalled tensorflow-estimator-2.9.0\n",
            "  Attempting uninstall: tensorboard\n",
            "    Found existing installation: tensorboard 2.9.1\n",
            "    Uninstalling tensorboard-2.9.1:\n",
            "      Successfully uninstalled tensorboard-2.9.1\n",
            "  Attempting uninstall: packaging\n",
            "    Found existing installation: packaging 21.3\n",
            "    Uninstalling packaging-21.3:\n",
            "      Successfully uninstalled packaging-21.3\n",
            "  Attempting uninstall: keras\n",
            "    Found existing installation: keras 2.9.0\n",
            "    Uninstalling keras-2.9.0:\n",
            "      Successfully uninstalled keras-2.9.0\n",
            "  Attempting uninstall: flatbuffers\n",
            "    Found existing installation: flatbuffers 1.12\n",
            "    Uninstalling flatbuffers-1.12:\n",
            "      Successfully uninstalled flatbuffers-1.12\n",
            "  Attempting uninstall: tensorflow\n",
            "    Found existing installation: tensorflow 2.9.2\n",
            "    Uninstalling tensorflow-2.9.2:\n",
            "      Successfully uninstalled tensorflow-2.9.2\n",
            "Successfully installed chex-0.1.5 commonmark-0.9.1 flatbuffers-22.10.26 flax-0.6.1 keras-2.10.0 optax-0.1.3 packaging-20.9 rich-12.6.0 tensorboard-2.10.1 tensorflow-2.10.0 tensorflow-decision-forests-1.0.1 tensorflow-estimator-2.10.0 tensorflowjs-4.0.0 wurlitzer-3.0.2\n"
          ]
        },
        {
          "data": {
            "application/vnd.colab-display-data+json": {
              "pip_warning": {
                "packages": [
                  "flatbuffers",
                  "keras",
                  "packaging",
                  "tensorboard",
                  "tensorflow"
                ]
              }
            }
          },
          "metadata": {},
          "output_type": "display_data"
        }
      ],
      "source": [
        "!pip install tensorflowjs"
      ]
    },
    {
      "cell_type": "code",
      "execution_count": 71,
      "metadata": {
        "colab": {
          "base_uri": "https://localhost:8080/"
        },
        "id": "hGj3ZfoVhdfy",
        "outputId": "1bb4ba6a-00d6-4013-8121-f32a22f4b58f"
      },
      "outputs": [
        {
          "name": "stdout",
          "output_type": "stream",
          "text": [
            "2022-11-08 14:04:11.348918: E tensorflow/stream_executor/cuda/cuda_blas.cc:2981] Unable to register cuBLAS factory: Attempting to register factory for plugin cuBLAS when one has already been registered\n",
            "2022-11-08 14:04:12.742614: W tensorflow/stream_executor/platform/default/dso_loader.cc:64] Could not load dynamic library 'libnvinfer.so.7'; dlerror: libnvinfer.so.7: cannot open shared object file: No such file or directory; LD_LIBRARY_PATH: /usr/local/nvidia/lib:/usr/local/nvidia/lib64\n",
            "2022-11-08 14:04:12.743755: W tensorflow/stream_executor/platform/default/dso_loader.cc:64] Could not load dynamic library 'libnvinfer_plugin.so.7'; dlerror: libnvinfer_plugin.so.7: cannot open shared object file: No such file or directory; LD_LIBRARY_PATH: /usr/local/nvidia/lib:/usr/local/nvidia/lib64\n",
            "2022-11-08 14:04:12.743812: W tensorflow/compiler/tf2tensorrt/utils/py_utils.cc:38] TF-TRT Warning: Cannot dlopen some TensorRT libraries. If you would like to use Nvidia GPU with TensorRT, please make sure the missing libraries mentioned above are installed properly.\n"
          ]
        }
      ],
      "source": [
        "!tensorflowjs_converter --input_format keras tf.h5 carpeta_out"
      ]
    },
    {
      "cell_type": "code",
      "execution_count": 72,
      "metadata": {
        "colab": {
          "base_uri": "https://localhost:8080/"
        },
        "id": "mfCZncNvhhL4",
        "outputId": "af5c507a-3acd-48fe-be7d-23d9bf0ac715"
      },
      "outputs": [
        {
          "name": "stdout",
          "output_type": "stream",
          "text": [
            "group1-shard1of1.bin  model.json\n"
          ]
        }
      ],
      "source": [
        "!ls carpeta_out"
      ]
    },
    {
      "cell_type": "code",
      "execution_count": null,
      "metadata": {
        "id": "sWXU9s4Hjl_k"
      },
      "outputs": [],
      "source": []
    }
  ],
  "metadata": {
    "colab": {
      "collapsed_sections": [],
      "provenance": []
    },
    "kernelspec": {
      "display_name": "Python 3.9.4 64-bit",
      "language": "python",
      "name": "python3"
    },
    "language_info": {
      "name": "python",
      "version": "3.9.4"
    },
    "vscode": {
      "interpreter": {
        "hash": "d1b75f63a51ab1e44c10e89cf3b718812d9c5e2447d39cb402b946ba7653bfcd"
      }
    }
  },
  "nbformat": 4,
  "nbformat_minor": 0
}
